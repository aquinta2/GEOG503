{
 "cells": [
  {
   "cell_type": "markdown",
   "metadata": {},
   "source": [
    "# Question 1\n",
    "\n",
    "Write a script that prints out the shapefiles whose filename contains character ‘a’. (4 pt.)"
   ]
  },
  {
   "cell_type": "code",
   "execution_count": 1,
   "metadata": {
    "collapsed": true
   },
   "outputs": [],
   "source": [
    "import arcpy\n",
    "arcpy.env.workspace = r\"C:\\Geog503\\lab4\"\n",
    "arcpy.env.overwriteOutput = True"
   ]
  },
  {
   "cell_type": "code",
   "execution_count": 2,
   "metadata": {
    "collapsed": false
   },
   "outputs": [
    {
     "name": "stdout",
     "output_type": "stream",
     "text": [
      "facilities.shp\n",
      "hospitals.shp\n",
      "parks.shp\n"
     ]
    }
   ],
   "source": [
    "files = arcpy.ListFeatureClasses(\"*a*\")\n",
    "for file in files:\n",
    "    print(file)"
   ]
  },
  {
   "cell_type": "markdown",
   "metadata": {},
   "source": [
    "# Question 2\n",
    "\n",
    "Write a script that runs the Dissolve tool on the parks.shp feature class using the PARK_TYPE field as the field for aggregating features. Specify that multipart features are not allowed. Input and Output parameters must use variables. Do not use hard-coded parameters. (4 pt.)"
   ]
  },
  {
   "cell_type": "code",
   "execution_count": 3,
   "metadata": {
    "collapsed": false
   },
   "outputs": [
    {
     "name": "stdout",
     "output_type": "stream",
     "text": [
      "Executing: Dissolve C:\\geog503\\lab4\\parks.shp C:\\geog503\\lab4\\Results\\Dissolve_Parks.shp PARK_TYPE # SINGLE_PART DISSOLVE_LINES\n",
      "Start Time: Mon Feb 20 17:43:27 2017\n",
      "Sorting Attributes...\n",
      "Dissolving...\n",
      "Succeeded at Mon Feb 20 17:43:27 2017 (Elapsed Time: 0.50 seconds)\n"
     ]
    }
   ],
   "source": [
    "try:\n",
    "    in_park = \"parks.shp\"\n",
    "    out_dis_park = \"Results/Dissolve_Parks.shp\"\n",
    "    arcpy.Dissolve_management(in_park,out_dis_park,\"PARK_TYPE\",\"#\",\"SINGLE_PART\",\"DISSOLVE_LINES\")\n",
    "    print(arcpy.GetMessages(0))\n",
    "except arcpy.ExecuteError:\n",
    "    print(arcpy.GetMessages(4))"
   ]
  },
  {
   "cell_type": "markdown",
   "metadata": {},
   "source": [
    "# Question 3\n",
    "\n",
    "Write a script that calculates the SUM area of each PARK_TYPE based on the parks.shp. Input and Output parameters must use variables. Do not use hard-coded parameters. (4 pt.)"
   ]
  },
  {
   "cell_type": "code",
   "execution_count": 5,
   "metadata": {
    "collapsed": false
   },
   "outputs": [
    {
     "name": "stdout",
     "output_type": "stream",
     "text": [
      "Executing: Statistics C:\\geog503\\lab4\\parks.shp C:\\geog503\\lab4\\Results\\Sum_Park.dbf \"SHAPE_AREA SUM\" PARK_TYPE\n",
      "Start Time: Mon Feb 20 17:45:06 2017\n",
      "Succeeded at Mon Feb 20 17:45:06 2017 (Elapsed Time: 0.08 seconds)\n"
     ]
    }
   ],
   "source": [
    "try:\n",
    "    in_park = \"parks.shp\"\n",
    "    out_sum_park = \"Results/Sum_Park.dbf\"\n",
    "    arcpy.Statistics_analysis(in_park,out_sum_park,\"SHAPE_AREA SUM\",\"PARK_TYPE\")\n",
    "    print(arcpy.GetMessages(0))\n",
    "except arcpy.ExecuteError:\n",
    "    print(arcpy.GetMessages(2))"
   ]
  },
  {
   "cell_type": "markdown",
   "metadata": {},
   "source": [
    "# Question 4\n",
    "\n",
    "Write a script that defines projection on the hospitals.shp based on the projection of facilities.shp. Input and Output parameters must use variables. Do not use hard-coded parameters. (4 pt.)"
   ]
  },
  {
   "cell_type": "code",
   "execution_count": 7,
   "metadata": {
    "collapsed": false
   },
   "outputs": [
    {
     "name": "stdout",
     "output_type": "stream",
     "text": [
      "Executing: DefineProjection C:\\geog503\\lab4\\hospitals.shp PROJCS['NAD_1983_StatePlane_Texas_Central_FIPS_4203_Feet',GEOGCS['GCS_North_American_1983',DATUM['D_North_American_1983',SPHEROID['GRS_1980',6378137.0,298.257222101]],PRIMEM['Greenwich',0.0],UNIT['Degree',0.0174532925199433]],PROJECTION['Lambert_Conformal_Conic'],PARAMETER['False_Easting',2296583.333333333],PARAMETER['False_Northing',9842500.0],PARAMETER['Central_Meridian',-100.3333333333333],PARAMETER['Standard_Parallel_1',30.11666666666667],PARAMETER['Standard_Parallel_2',31.88333333333333],PARAMETER['Latitude_Of_Origin',29.66666666666667],UNIT['Foot_US',0.3048006096012192]]\n",
      "Start Time: Mon Feb 20 17:46:17 2017\n",
      "Succeeded at Mon Feb 20 17:46:17 2017 (Elapsed Time: 0.02 seconds)\n"
     ]
    }
   ],
   "source": [
    "try:\n",
    "    in_hospital = \"hospitals.shp\"\n",
    "    dcs = arcpy.Describe(\"facilities.shp\")\n",
    "    coord_sys = dcs.SpatialReference\n",
    "    arcpy.DefineProjection_management(in_hospital,coord_sys)\n",
    "    print(arcpy.GetMessages(0))\n",
    "except arcpy.ExecuteError:\n",
    "    print(arcpy.GetMessages(2))"
   ]
  },
  {
   "cell_type": "markdown",
   "metadata": {},
   "source": [
    "# Question 5\n",
    "\n",
    "Write a script that determines whether the following extensions are available: ArcGIS 3D Analyst, Spatial Analyst, Geostatistical Analyst, and Tracking Analyst. The script should print an informative message with the results, such as \"The following extensions are available: ... “ (4 pt.)"
   ]
  },
  {
   "cell_type": "code",
   "execution_count": 8,
   "metadata": {
    "collapsed": false
   },
   "outputs": [
    {
     "name": "stdout",
     "output_type": "stream",
     "text": [
      "The following extensions are available:\n",
      "ArcGIS 3D Analyst\n",
      "Spatial Analyst\n",
      "Geostatistical Analyst\n",
      "Tracking Analyst\n"
     ]
    }
   ],
   "source": [
    "ava_list = []\n",
    "if arcpy.CheckExtension(\"3D\") == \"Available\":\n",
    "    ava_list.append(\"ArcGIS 3D Analyst\")\n",
    "if arcpy.CheckExtension(\"Spatial\") == \"Available\":\n",
    "    ava_list.append(\"Spatial Analyst\")\n",
    "if arcpy.CheckExtension(\"GeoStats\") == \"Available\":\n",
    "    ava_list.append(\"Geostatistical Analyst\")\n",
    "if arcpy.CheckExtension(\"Tracking\") == \"Available\":\n",
    "    ava_list.append(\"Tracking Analyst\")\n",
    "print(\"The following extensions are available:\" )\n",
    "for i in ava_list:\n",
    "    print(i)"
   ]
  }
 ],
 "metadata": {
  "anaconda-cloud": {},
  "kernelspec": {
   "display_name": "Python [conda env:arc104]",
   "language": "python",
   "name": "conda-env-arc104-py"
  },
  "language_info": {
   "codemirror_mode": {
    "name": "ipython",
    "version": 2
   },
   "file_extension": ".py",
   "mimetype": "text/x-python",
   "name": "python",
   "nbconvert_exporter": "python",
   "pygments_lexer": "ipython2",
   "version": "2.7.10"
  }
 },
 "nbformat": 4,
 "nbformat_minor": 1
}
