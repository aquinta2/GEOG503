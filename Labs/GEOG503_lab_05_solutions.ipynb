{
 "cells": [
  {
   "cell_type": "markdown",
   "metadata": {},
   "source": [
    "# Question 1\n",
    "\n",
    "Write a script that creates a File Geodatabase in the Results folder, and copies those Shapfiles that are either Point or Polygon shapeType from the lab5 folder to the newly created File Geodatabase. Note that you cannot use hard-coded filename (e.g. “cities.shp”) to specify which Shapefile to copy. (10 pt.)"
   ]
  },
  {
   "cell_type": "code",
   "execution_count": 1,
   "metadata": {
    "collapsed": true
   },
   "outputs": [],
   "source": [
    "import arcpy\n",
    "import os\n",
    "workspace = r\"C:\\geog503\\lab5\"\n",
    "arcpy.env.workspace = workspace\n",
    "arcpy.env.overwriteOutput = True"
   ]
  },
  {
   "cell_type": "code",
   "execution_count": 2,
   "metadata": {
    "collapsed": false
   },
   "outputs": [
    {
     "name": "stdout",
     "output_type": "stream",
     "text": [
      "[u'amtrak_stations.shp', u'cities.shp', u'counties.shp', u'new_mexico.shp']\n"
     ]
    }
   ],
   "source": [
    "gdb_path = os.path.join(workspace, \"Results/\")\n",
    "gdb_name = \"lab5.gdb\"\n",
    "arcpy.CreateFileGDB_management(gdb_path,gdb_name)\n",
    "point_list = arcpy.ListFeatureClasses(feature_type=\"Point\")\n",
    "polygon_list = arcpy.ListFeatureClasses(feature_type=\"Polygon\")\n",
    "fc_list = point_list + polygon_list\n",
    "print(fc_list)\n",
    "for fc in fc_list:\n",
    "    filename = arcpy.Describe(fc).baseName\n",
    "    out_path = os.path.join(gdb_path, gdb_name, filename)\n",
    "    arcpy.CopyFeatures_management(fc,out_path)"
   ]
  },
  {
   "cell_type": "markdown",
   "metadata": {},
   "source": [
    "# Question 2\n",
    "\n",
    "Write a script that copies polygon-type feature classes and float-type raster datasets from testdata.gdb to the Results folder. Feature classes can be saved as Shapefile format while raster datasets can be saved as TIF format. Note that you cannot use hard-coded filename (e.g. “buffers_poly”) to specify which file to copy. (10 pt.)"
   ]
  },
  {
   "cell_type": "code",
   "execution_count": 3,
   "metadata": {
    "collapsed": false
   },
   "outputs": [
    {
     "name": "stdout",
     "output_type": "stream",
     "text": [
      "[u'buffers_poly', u'LittlePolys', u'Watersheds_polygon']\n",
      "[u'ElevationFloat', u'ElevationInt', u'Geology_raster', u'Landcover_raster']\n"
     ]
    }
   ],
   "source": [
    "import arcpy\n",
    "import os\n",
    "gdb_path = r\"C:\\geog503\\lab5\\testdata.gdb\"\n",
    "arcpy.env.workspace = gdb_path\n",
    "polygon_list = arcpy.ListFeatureClasses(feature_type=\"Polygon\")\n",
    "raster_list = arcpy.ListRasters()\n",
    "print(polygon_list)\n",
    "print(raster_list)"
   ]
  },
  {
   "cell_type": "code",
   "execution_count": 4,
   "metadata": {
    "collapsed": false
   },
   "outputs": [],
   "source": [
    "workspace = r\"C:\\geog503\\lab5\\Results\"\n",
    "arcpy.env.workspace = workspace\n",
    "arcpy.env.overwriteOutput = True\n",
    "for fc in polygon_list:\n",
    "    fc_path = os.path.join(gdb_path, fc)\n",
    "    out_name = fc + \".shp\"\n",
    "    arcpy.CopyFeatures_management(fc_path, out_name)\n",
    "for raster in raster_list:\n",
    "    raster_path = os.path.join(gdb_path, raster)\n",
    "    desc = arcpy.Describe(raster_path)\n",
    "    if desc.pixelType == \"F32\" or desc.pixelType == \"F64\":\n",
    "        out_name = raster + \".tif\"\n",
    "        arcpy.CopyRaster_management(raster_path, out_name)"
   ]
  },
  {
   "cell_type": "markdown",
   "metadata": {},
   "source": [
    "# Question 3\n",
    "\n",
    "After completing Task 2, you should have the float-type raster dataset(s) in the Results folder. Write a script to print out the properties for each float-type raster dataset, including the spatial reference name, cell size, columns, rows, Min, Max, and Mean values.  Note that you cannot use hard-coded filename to specify which raster dataset to use. (10 pt.)"
   ]
  },
  {
   "cell_type": "code",
   "execution_count": 5,
   "metadata": {
    "collapsed": false
   },
   "outputs": [
    {
     "name": "stdout",
     "output_type": "stream",
     "text": [
      "ElevationFloat.tif\n",
      "The Spatial Reference is: USA_Contiguous_Albers_Equal_Area_Conic_USGS_version\n",
      "The cell size is: 30\n",
      "Total rows is: 207\n",
      "Total columns is: 233\n",
      "The minimum value is: 4309\n",
      "The maximum value is: 5832\n",
      "The mean value is: 4907.5136753423\n",
      "*************************************\n"
     ]
    }
   ],
   "source": [
    "import arcpy\n",
    "workspace = r\"C:\\geog503\\lab5\\Results\"\n",
    "arcpy.env.workspace = workspace\n",
    "rasters=arcpy.ListRasters()\n",
    "for raster in rasters:\n",
    "    print(raster)\n",
    "    desc = arcpy.Describe(raster)\n",
    "    reference=desc.spatialReference\n",
    "    print(\"The Spatial Reference is: \"+ reference.name)\n",
    "    cellsize=arcpy.GetRasterProperties_management(in_raster=raster, property_type=\"CELLSIZEX\")\n",
    "    print(\"The cell size is: \"+ str(cellsize))\n",
    "\n",
    "    row=arcpy.GetRasterProperties_management(in_raster=raster, property_type=\"ROWCOUNT\")\n",
    "    print(\"Total rows is: \" + str(row))\n",
    "\n",
    "    column=arcpy.GetRasterProperties_management(in_raster=raster, property_type=\"COLUMNCOUNT\")\n",
    "    print(\"Total columns is: \"+str(column))\n",
    "\n",
    "    Min=arcpy.GetRasterProperties_management(in_raster=raster, property_type=\"MINIMUM\")\n",
    "    print(\"The minimum value is: \" + str(Min))\n",
    "\n",
    "    Max=arcpy.GetRasterProperties_management(in_raster=raster, property_type=\"MAXIMUM\")\n",
    "    print(\"The maximum value is: \" + str(Max))\n",
    "\n",
    "    Mean=arcpy.GetRasterProperties_management(in_raster=raster, property_type=\"MEAN\")\n",
    "    print(\"The mean value is: \" + str(Mean))\n",
    "    \n",
    "    print(\"*************************************\")"
   ]
  },
  {
   "cell_type": "markdown",
   "metadata": {},
   "source": [
    "# Question 4\n",
    "\n",
    "After completing Task 2, you should have the polygon-type Shapefiles in the Results folder. Write a script to print out the String-type fields with length > 10 for each Shapefile. Note that you cannot use hard-coded filename to specify which Shapefile to use. (10 pt.)"
   ]
  },
  {
   "cell_type": "code",
   "execution_count": 6,
   "metadata": {
    "collapsed": false
   },
   "outputs": [
    {
     "name": "stdout",
     "output_type": "stream",
     "text": [
      "buffers_poly.shp\n",
      "SITE_NO\n",
      "STATION_NM\n",
      "LAND_NET_D\n",
      "MAP_NM\n",
      "DATA_TYPES\n",
      "INSTRUMENT\n",
      "****************\n",
      "LittlePolys.shp\n",
      "STAID\n",
      "****************\n",
      "Watersheds_polygon.shp\n",
      "STAID\n",
      "****************\n"
     ]
    }
   ],
   "source": [
    "import arcpy\n",
    "workspace = r\"C:\\geog503\\lab5\\Results\"\n",
    "arcpy.env.workspace = workspace\n",
    "polygons=arcpy.ListFeatureClasses()\n",
    "for polygon in polygons:\n",
    "    print(polygon)\n",
    "    fields = arcpy.ListFields(polygon, field_type=\"string\")\n",
    "    for field in fields:\n",
    "        if field.length > 10:\n",
    "            print( field.name)\n",
    "    print(\"****************\")"
   ]
  }
 ],
 "metadata": {
  "anaconda-cloud": {},
  "kernelspec": {
   "display_name": "Python [conda env:arc104]",
   "language": "python",
   "name": "conda-env-arc104-py"
  },
  "language_info": {
   "codemirror_mode": {
    "name": "ipython",
    "version": 2
   },
   "file_extension": ".py",
   "mimetype": "text/x-python",
   "name": "python",
   "nbconvert_exporter": "python",
   "pygments_lexer": "ipython2",
   "version": "2.7.10"
  }
 },
 "nbformat": 4,
 "nbformat_minor": 1
}
