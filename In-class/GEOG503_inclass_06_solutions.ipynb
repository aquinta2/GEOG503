{
 "cells": [
  {
   "cell_type": "markdown",
   "metadata": {
    "collapsed": true
   },
   "source": [
    "Write a script that performs the following tasks using the **airports.shp**\n",
    "\n",
    "*\tUpdate the STATE field of the airports to “AK” if their STATE field is empty. (5 pt.) "
   ]
  },
  {
   "cell_type": "code",
   "execution_count": 1,
   "metadata": {
    "collapsed": false
   },
   "outputs": [
    {
     "name": "stdout",
     "output_type": "stream",
     "text": [
      "FID\n",
      "Shape\n",
      "AREA\n",
      "PERIMETER\n",
      "AIRPRTX020\n",
      "LOCID\n",
      "FEATURE\n",
      "NAME\n",
      "TOT_ENP\n",
      "STATE\n",
      "COUNTY\n",
      "FIPS\n",
      "STATE_FIPS\n",
      "NEW__\n"
     ]
    }
   ],
   "source": [
    "import arcpy\n",
    "fc = r\"C:\\Geog503\\data\\airports.shp\"\n",
    "fields = arcpy.ListFields(fc)\n",
    "for field in fields:\n",
    "    print(field.name)"
   ]
  },
  {
   "cell_type": "code",
   "execution_count": 2,
   "metadata": {
    "collapsed": false
   },
   "outputs": [],
   "source": [
    "import arcpy\n",
    "arcpy.env.workspace = r\"C:\\Geog503\\data\"\n",
    "fc = \"airports.shp\"\n",
    "fields = [\"STATE\"]\n",
    "cursor =  arcpy.da.UpdateCursor(fc, fields)\n",
    "for row in cursor:\n",
    "    if row[0].strip() == \"\":\n",
    "        row[0] = \"AK\"\n",
    "        cursor.updateRow(row)\n",
    "del cursor"
   ]
  },
  {
   "cell_type": "markdown",
   "metadata": {},
   "source": [
    "*\tDelete those airports that are located in “Anchorage Borough” County. (5 pt.)"
   ]
  },
  {
   "cell_type": "code",
   "execution_count": 3,
   "metadata": {
    "collapsed": true
   },
   "outputs": [],
   "source": [
    "import arcpy\n",
    "arcpy.env.workspace = r\"C:\\Geog503\\data\"\n",
    "fc = \"airports.shp\"\n",
    "fields = [\"COUNTY\"]\n",
    "cursor =  arcpy.da.UpdateCursor(fc, fields)\n",
    "for row in cursor:\n",
    "    if row[0] == \"Anchorage Borough\":\n",
    "        cursor.deleteRow()\n",
    "del cursor"
   ]
  },
  {
   "cell_type": "code",
   "execution_count": null,
   "metadata": {
    "collapsed": true
   },
   "outputs": [],
   "source": []
  }
 ],
 "metadata": {
  "anaconda-cloud": {},
  "kernelspec": {
   "display_name": "Python [conda env:arc104]",
   "language": "python",
   "name": "conda-env-arc104-py"
  },
  "language_info": {
   "codemirror_mode": {
    "name": "ipython",
    "version": 2
   },
   "file_extension": ".py",
   "mimetype": "text/x-python",
   "name": "python",
   "nbconvert_exporter": "python",
   "pygments_lexer": "ipython2",
   "version": "2.7.10"
  }
 },
 "nbformat": 4,
 "nbformat_minor": 1
}
