{
 "cells": [
  {
   "cell_type": "markdown",
   "metadata": {},
   "source": [
    "# Inclass Assignment 2\n",
    "\n",
    "Complete the following task outlined in bold below **(10 points)**.\n",
    "\n",
    "File name convention for assignment submissions: **lastname_firstname_inclass2.ipynb**\n"
   ]
  },
  {
   "cell_type": "markdown",
   "metadata": {},
   "source": [
    "## Question\n",
    "\n",
    "** You are driving a little too fast, and a police officer stops you. Write a function to return one of 3 possible results: \"No ticket\", \"Small ticket\", or \"Big Ticket\". If your speed is 60 or less, the result is \"No Ticket\". If speed is between 61 and 80 inclusive, the result is \"Small Ticket\". If speed is 81 or more, the result is \"Big Ticket\". Unless it is your birthday (encoded as a boolean value in the parameters of the function) -- on your birthday, your speed can be 5 higher in all cases. **\n",
    "\n",
    "** Test the function by allowing user to enter a speed and whether it is his/her birthday ('Yes' or 'No'), and print out the result.**"
   ]
  },
  {
   "cell_type": "code",
   "execution_count": 5,
   "metadata": {
    "collapsed": false,
    "scrolled": false
   },
   "outputs": [
    {
     "name": "stdout",
     "output_type": "stream",
     "text": [
      "Enter the speed: 90\n",
      "Is today your birthday? (Yes or No?):y\n",
      "Big Ticket\n"
     ]
    }
   ],
   "source": [
    "def caught_speeding(speed, is_birthday):\n",
    "    \n",
    "    if is_birthday:\n",
    "        speeding = speed - 5\n",
    "    else:\n",
    "        speeding = speed\n",
    "    \n",
    "    if speeding > 80:\n",
    "        print('Big Ticket')\n",
    "    elif speeding > 60:\n",
    "        print('Small Ticket')\n",
    "    else:\n",
    "        print('No Ticket')\n",
    "    \n",
    "\n",
    "speed = float(input(\"Enter the speed: \"))\n",
    "bool_birthday = input(\"Is today your birthday? (Yes or No?):\")\n",
    "\n",
    "is_birthday = False\n",
    "if bool_birthday.lower() == \"yes\" or bool_birthday.lower() == \"y\":\n",
    "    is_birthday = True\n",
    "\n",
    "caught_speeding(speed, is_birthday)\n"
   ]
  },
  {
   "cell_type": "code",
   "execution_count": null,
   "metadata": {
    "collapsed": true
   },
   "outputs": [],
   "source": []
  }
 ],
 "metadata": {
  "anaconda-cloud": {},
  "kernelspec": {
   "display_name": "Python [default]",
   "language": "python",
   "name": "python3"
  },
  "language_info": {
   "codemirror_mode": {
    "name": "ipython",
    "version": 3
   },
   "file_extension": ".py",
   "mimetype": "text/x-python",
   "name": "python",
   "nbconvert_exporter": "python",
   "pygments_lexer": "ipython3",
   "version": "3.5.2"
  }
 },
 "nbformat": 4,
 "nbformat_minor": 0
}
