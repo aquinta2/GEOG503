{
 "cells": [
  {
   "cell_type": "markdown",
   "metadata": {},
   "source": [
    "# Manipulating Spatial Data\n",
    "\n",
    "* arcpy.da cursors\n",
    "* Search cursor\n",
    "* Update cursor\n",
    "* Insert cursor\n",
    "* SQL query\n"
   ]
  },
  {
   "cell_type": "markdown",
   "metadata": {},
   "source": [
    "## What is Cursor?\n",
    "\n",
    "* Similar to list functions:\n",
    "    - Iterate through feature classes, tables, and fields\n",
    "* Cursors:\n",
    "    - Iterate through rows in a table\n",
    "    - Read and write geometries to and from records, row by row\n",
    "\n",
    "<img style=\"float: left;\" src=\"images/cursors.png\" width = 500>"
   ]
  },
  {
   "cell_type": "markdown",
   "metadata": {},
   "source": [
    "\n",
    "## Cursor Methods\n",
    "\n",
    "* <http://desktop.arcgis.com/en/arcmap/latest/analyze/arcpy-classes/cursor.htm>\n",
    "\n",
    "<img style=\"float: left;\" src=\"images/cursor_methods.png\" width = 500>"
   ]
  },
  {
   "cell_type": "markdown",
   "metadata": {},
   "source": [
    "## General Syntax\n",
    "\n",
    "* **Required parameters:**\n",
    "    - An input table\n",
    "    - A list (or tuple) of field names\n",
    "* **General syntax:**\n",
    "    - arcpy.da.InsertCursor(in_table, field_names)\n",
    "    - arcpy.da.SearchCursor(in_table, field_names, {where_clause}, {spatial_reference}, {explore_to_points})\n",
    "    - arcpy.da.UpdateCursor(in_table, field_names, {where_clause}, {spatial_reference}, {explore_to_points})\n"
   ]
  },
  {
   "cell_type": "markdown",
   "metadata": {},
   "source": [
    "## Using the SearchCursor \n",
    "\n",
    "* **General syntax:**\n",
    "    - arcpy.da.SearchCursor(in_table, field_names, {where_clause}, {spatial_reference}, {explore_to_points})\n",
    "    - <http://desktop.arcgis.com/en/arcmap/latest/analyze/arcpy-data-access/searchcursor-class.htm>\n",
    "    \n",
    "* **Parameters:**\n",
    "\n",
    "<img style=\"float: left;\" src=\"images/search_cursor_params.png\" width = 450>\n",
    "\n"
   ]
  },
  {
   "cell_type": "markdown",
   "metadata": {},
   "source": [
    "* **Methods:**\n",
    "\n",
    "<img style=\"float: left;\" src=\"images/search_cursor_methods.png\" width = 450>"
   ]
  },
  {
   "cell_type": "code",
   "execution_count": 1,
   "metadata": {
    "collapsed": false
   },
   "outputs": [
    {
     "name": "stdout",
     "output_type": "stream",
     "text": [
      "NAME = Hyder\n",
      "NAME = Chignik Lagoon\n",
      "NAME = Koyuk\n",
      "NAME = Kivalina\n",
      "NAME = Ketchikan Harbor\n",
      "NAME = Metlakatla\n",
      "NAME = Waterfall\n",
      "NAME = Ketchikan\n",
      "NAME = Kasaan\n",
      "NAME = Hollis\n",
      "NAME = Craig\n",
      "NAME = Thorne Bay\n",
      "NAME = Coffman Cove\n",
      "NAME = Meyers Chuck\n",
      "NAME = Klawock\n",
      "NAME = Yes Bay Lodge\n",
      "NAME = Wrangell\n",
      "NAME = Petersburg James A. Johnson\n",
      "NAME = Kake\n",
      "NAME = Sitka Rocky Gutierrez\n",
      "NAME = Angoon\n",
      "NAME = Funter Bay\n",
      "NAME = Tenakee\n",
      "NAME = Hawk Inlet\n",
      "NAME = Hoonah\n",
      "NAME = Juneau International\n",
      "NAME = Pelican\n",
      "NAME = Elfin Cove\n",
      "NAME = Excursion Inlet\n",
      "NAME = Gustavus\n",
      "NAME = Haines\n",
      "NAME = Skagway\n",
      "NAME = Yakutat\n",
      "NAME = Icy Bay\n",
      "NAME = Alitak\n",
      "NAME = Akhiok\n",
      "NAME = San Juan/Uganik Bay\n",
      "NAME = Old Harbor\n",
      "NAME = Larsen Bay\n",
      "NAME = Trident Basin\n",
      "NAME = Kodiak\n",
      "NAME = Ouzinkie\n",
      "NAME = Port Lions\n",
      "NAME = Merle K. (Mudhole) Smith\n",
      "NAME = Sand Point\n",
      "NAME = Ivanof Bay\n",
      "NAME = Perryville\n",
      "NAME = Chignik Fisheries\n",
      "NAME = Chignik Lake\n",
      "NAME = Chignik\n",
      "NAME = Karluk\n",
      "NAME = Port Graham\n",
      "NAME = Seldovia\n",
      "NAME = English Bay\n",
      "NAME = Homer\n",
      "NAME = Seward\n",
      "NAME = Girdwood\n",
      "NAME = Valdez\n",
      "NAME = Chitina\n",
      "NAME = Gulkana\n",
      "NAME = Tetlin\n",
      "NAME = King Cove\n",
      "NAME = Cold Bay\n",
      "NAME = False Pass\n",
      "NAME = Port Heiden\n",
      "NAME = Pilot Point\n",
      "NAME = Egegik\n",
      "NAME = Lake Brooks\n",
      "NAME = Levelock\n",
      "NAME = King Salmon\n",
      "NAME = South Naknek Nr 2\n",
      "NAME = Tibbetts\n",
      "NAME = Kulik Lake\n",
      "NAME = Kokhanok\n",
      "NAME = Pedro Bay\n",
      "NAME = Igiugig\n",
      "NAME = Nondalton\n",
      "NAME = Port Alsworth\n",
      "NAME = Soldotna\n",
      "NAME = Kenai Municipal\n",
      "NAME = Tyonek\n",
      "NAME = Trading Bay Production\n",
      "NAME = Beluga\n",
      "NAME = Merrill Field\n",
      "NAME = Lake Hood\n",
      "NAME = Elmendorf Air Force Base\n",
      "NAME = Palmer Municipal\n",
      "NAME = Willow\n",
      "NAME = Skelton\n",
      "NAME = Tok\n",
      "NAME = Eagle\n",
      "NAME = Akutan\n",
      "NAME = Unalaska\n",
      "NAME = Ekuk\n",
      "NAME = Clarks Point\n",
      "NAME = Manokotak\n",
      "NAME = Ekwok\n",
      "NAME = Dillingham\n",
      "NAME = Koliganek\n",
      "NAME = Skwentna\n",
      "NAME = Talkeetna\n",
      "NAME = McKinley National Park\n",
      "NAME = Platinum\n",
      "NAME = Goodnews\n",
      "NAME = Twin Hills\n",
      "NAME = Togiak\n",
      "NAME = Stony River 2\n",
      "NAME = Sleetmute\n",
      "NAME = Nikolai\n",
      "NAME = Kantishna\n",
      "NAME = Minchumina\n",
      "NAME = Healy River\n",
      "NAME = Eielson Air Force Base\n",
      "NAME = Wainwright Army Air Field\n",
      "NAME = Fairbanks International\n",
      "NAME = Circle City\n",
      "NAME = Chalkyitsik\n",
      "NAME = Atka\n",
      "NAME = Quinhagak\n",
      "NAME = Eek\n",
      "NAME = Kongiganak\n",
      "NAME = Kwigillingok\n",
      "NAME = Tuntutuliak\n",
      "NAME = Akiak\n",
      "NAME = Kwethluk\n",
      "NAME = Tuluksak\n",
      "NAME = Napaskiak\n",
      "NAME = Akiachak\n",
      "NAME = Napakiak\n",
      "NAME = Bethel\n",
      "NAME = Aniak\n",
      "NAME = Kalskag\n",
      "NAME = Red Devil\n",
      "NAME = Crooked Creek\n",
      "NAME = McGrath\n",
      "NAME = Ralph M. Calhoun Memorial\n",
      "NAME = Minto\n",
      "NAME = Rampart\n",
      "NAME = Stevens Village\n",
      "NAME = Beaver\n",
      "NAME = Birch Creek\n",
      "NAME = Fort Yukon\n",
      "NAME = Venetie\n",
      "NAME = Adak Naval Air Facility\n",
      "NAME = Saint George\n",
      "NAME = Saint Paul Island\n",
      "NAME = Newtok\n",
      "NAME = Kipnuk\n",
      "NAME = Chefornak\n",
      "NAME = Nightmute\n",
      "NAME = Toksook Bay\n",
      "NAME = Tununak\n",
      "NAME = Atmautluak\n",
      "NAME = Nunapitchuk\n",
      "NAME = Kasigluk\n",
      "NAME = Russian Mission\n",
      "NAME = Marshall\n",
      "NAME = Pilot Station\n",
      "NAME = Holy Cross\n",
      "NAME = Shageluk\n",
      "NAME = Anvik\n",
      "NAME = Grayling\n",
      "NAME = Edward G. Pitka Sr.\n",
      "NAME = Ruby\n",
      "NAME = Bettles\n",
      "NAME = New Allakaket\n",
      "NAME = Prospect Creek\n",
      "NAME = Coldfoot\n",
      "NAME = Arctic Village\n",
      "NAME = Mekoryuk\n",
      "NAME = Hooper Bay\n",
      "NAME = Mountain Village\n",
      "NAME = Chevak\n",
      "NAME = Scammon Bay\n",
      "NAME = Saint Mary's\n",
      "NAME = Sheldon Point\n",
      "NAME = Saint Michael\n",
      "NAME = Stebbins\n",
      "NAME = Unalakleet\n",
      "NAME = Shaktoolik\n",
      "NAME = Kaltag\n",
      "NAME = Nulato\n",
      "NAME = Huslia\n",
      "NAME = Hughes\n",
      "NAME = Anaktuvuk Pass\n",
      "NAME = Galbraith Lake\n",
      "NAME = Barter Island LRRS\n",
      "NAME = Alakanuk\n",
      "NAME = Emmonak\n",
      "NAME = Elim\n",
      "NAME = Golovin\n",
      "NAME = White Mountain\n",
      "NAME = Buckland\n",
      "NAME = Selawik\n",
      "NAME = Kobuk\n",
      "NAME = Shungnak\n",
      "NAME = Ambler\n",
      "NAME = Deadhorse\n",
      "NAME = Nome\n",
      "NAME = Deering\n",
      "NAME = Bob Baker Memorial\n",
      "NAME = Robert (Bob) Curtis Memorial\n",
      "NAME = Ralph Wien Memorial\n",
      "NAME = Nuiqsut\n",
      "NAME = Savoonga\n",
      "NAME = Teller\n",
      "NAME = Brevig Mission\n",
      "NAME = Shishmaref\n",
      "NAME = Wales\n",
      "NAME = Noatak\n",
      "NAME = Red Dog\n",
      "NAME = Atqasuk Edward Burnell Sr. Memorial\n",
      "NAME = Gambell\n",
      "NAME = Point Hope\n",
      "NAME = Point Lay LRRS\n",
      "NAME = Wainwright\n",
      "NAME = Wiley Post-Will Rogers Memorial\n",
      "NAME = New Stuyahok\n",
      "NAME = Ted Stevens Anchorage International\n",
      "NAME = Iliamna\n",
      "NAME = Koyukuk\n"
     ]
    }
   ],
   "source": [
    "import arcpy\n",
    "arcpy.env.workspace = r\"C:\\Geog503\\data\"\n",
    "fc = \"airports.shp\"\n",
    "fields = [\"NAME\"]\n",
    "cursor = arcpy.da.SearchCursor(fc, fields)\n",
    "for row in cursor:\n",
    "    print(\"NAME = {0}\".format(row[0]))"
   ]
  },
  {
   "cell_type": "markdown",
   "metadata": {},
   "source": [
    "**With** statement:\n",
    "* Guarantee closure and release of database lock\n",
    "* Reset iteration\n"
   ]
  },
  {
   "cell_type": "code",
   "execution_count": 2,
   "metadata": {
    "code_folding": [],
    "collapsed": false
   },
   "outputs": [
    {
     "name": "stdout",
     "output_type": "stream",
     "text": [
      "NAME = Hyder\n",
      "NAME = Chignik Lagoon\n",
      "NAME = Koyuk\n",
      "NAME = Kivalina\n",
      "NAME = Ketchikan Harbor\n",
      "NAME = Metlakatla\n",
      "NAME = Waterfall\n",
      "NAME = Ketchikan\n",
      "NAME = Kasaan\n",
      "NAME = Hollis\n",
      "NAME = Craig\n",
      "NAME = Thorne Bay\n",
      "NAME = Coffman Cove\n",
      "NAME = Meyers Chuck\n",
      "NAME = Klawock\n",
      "NAME = Yes Bay Lodge\n",
      "NAME = Wrangell\n",
      "NAME = Petersburg James A. Johnson\n",
      "NAME = Kake\n",
      "NAME = Sitka Rocky Gutierrez\n",
      "NAME = Angoon\n",
      "NAME = Funter Bay\n",
      "NAME = Tenakee\n",
      "NAME = Hawk Inlet\n",
      "NAME = Hoonah\n",
      "NAME = Juneau International\n",
      "NAME = Pelican\n",
      "NAME = Elfin Cove\n",
      "NAME = Excursion Inlet\n",
      "NAME = Gustavus\n",
      "NAME = Haines\n",
      "NAME = Skagway\n",
      "NAME = Yakutat\n",
      "NAME = Icy Bay\n",
      "NAME = Alitak\n",
      "NAME = Akhiok\n",
      "NAME = San Juan/Uganik Bay\n",
      "NAME = Old Harbor\n",
      "NAME = Larsen Bay\n",
      "NAME = Trident Basin\n",
      "NAME = Kodiak\n",
      "NAME = Ouzinkie\n",
      "NAME = Port Lions\n",
      "NAME = Merle K. (Mudhole) Smith\n",
      "NAME = Sand Point\n",
      "NAME = Ivanof Bay\n",
      "NAME = Perryville\n",
      "NAME = Chignik Fisheries\n",
      "NAME = Chignik Lake\n",
      "NAME = Chignik\n",
      "NAME = Karluk\n",
      "NAME = Port Graham\n",
      "NAME = Seldovia\n",
      "NAME = English Bay\n",
      "NAME = Homer\n",
      "NAME = Seward\n",
      "NAME = Girdwood\n",
      "NAME = Valdez\n",
      "NAME = Chitina\n",
      "NAME = Gulkana\n",
      "NAME = Tetlin\n",
      "NAME = King Cove\n",
      "NAME = Cold Bay\n",
      "NAME = False Pass\n",
      "NAME = Port Heiden\n",
      "NAME = Pilot Point\n",
      "NAME = Egegik\n",
      "NAME = Lake Brooks\n",
      "NAME = Levelock\n",
      "NAME = King Salmon\n",
      "NAME = South Naknek Nr 2\n",
      "NAME = Tibbetts\n",
      "NAME = Kulik Lake\n",
      "NAME = Kokhanok\n",
      "NAME = Pedro Bay\n",
      "NAME = Igiugig\n",
      "NAME = Nondalton\n",
      "NAME = Port Alsworth\n",
      "NAME = Soldotna\n",
      "NAME = Kenai Municipal\n",
      "NAME = Tyonek\n",
      "NAME = Trading Bay Production\n",
      "NAME = Beluga\n",
      "NAME = Merrill Field\n",
      "NAME = Lake Hood\n",
      "NAME = Elmendorf Air Force Base\n",
      "NAME = Palmer Municipal\n",
      "NAME = Willow\n",
      "NAME = Skelton\n",
      "NAME = Tok\n",
      "NAME = Eagle\n",
      "NAME = Akutan\n",
      "NAME = Unalaska\n",
      "NAME = Ekuk\n",
      "NAME = Clarks Point\n",
      "NAME = Manokotak\n",
      "NAME = Ekwok\n",
      "NAME = Dillingham\n",
      "NAME = Koliganek\n",
      "NAME = Skwentna\n",
      "NAME = Talkeetna\n",
      "NAME = McKinley National Park\n",
      "NAME = Platinum\n",
      "NAME = Goodnews\n",
      "NAME = Twin Hills\n",
      "NAME = Togiak\n",
      "NAME = Stony River 2\n",
      "NAME = Sleetmute\n",
      "NAME = Nikolai\n",
      "NAME = Kantishna\n",
      "NAME = Minchumina\n",
      "NAME = Healy River\n",
      "NAME = Eielson Air Force Base\n",
      "NAME = Wainwright Army Air Field\n",
      "NAME = Fairbanks International\n",
      "NAME = Circle City\n",
      "NAME = Chalkyitsik\n",
      "NAME = Atka\n",
      "NAME = Quinhagak\n",
      "NAME = Eek\n",
      "NAME = Kongiganak\n",
      "NAME = Kwigillingok\n",
      "NAME = Tuntutuliak\n",
      "NAME = Akiak\n",
      "NAME = Kwethluk\n",
      "NAME = Tuluksak\n",
      "NAME = Napaskiak\n",
      "NAME = Akiachak\n",
      "NAME = Napakiak\n",
      "NAME = Bethel\n",
      "NAME = Aniak\n",
      "NAME = Kalskag\n",
      "NAME = Red Devil\n",
      "NAME = Crooked Creek\n",
      "NAME = McGrath\n",
      "NAME = Ralph M. Calhoun Memorial\n",
      "NAME = Minto\n",
      "NAME = Rampart\n",
      "NAME = Stevens Village\n",
      "NAME = Beaver\n",
      "NAME = Birch Creek\n",
      "NAME = Fort Yukon\n",
      "NAME = Venetie\n",
      "NAME = Adak Naval Air Facility\n",
      "NAME = Saint George\n",
      "NAME = Saint Paul Island\n",
      "NAME = Newtok\n",
      "NAME = Kipnuk\n",
      "NAME = Chefornak\n",
      "NAME = Nightmute\n",
      "NAME = Toksook Bay\n",
      "NAME = Tununak\n",
      "NAME = Atmautluak\n",
      "NAME = Nunapitchuk\n",
      "NAME = Kasigluk\n",
      "NAME = Russian Mission\n",
      "NAME = Marshall\n",
      "NAME = Pilot Station\n",
      "NAME = Holy Cross\n",
      "NAME = Shageluk\n",
      "NAME = Anvik\n",
      "NAME = Grayling\n",
      "NAME = Edward G. Pitka Sr.\n",
      "NAME = Ruby\n",
      "NAME = Bettles\n",
      "NAME = New Allakaket\n",
      "NAME = Prospect Creek\n",
      "NAME = Coldfoot\n",
      "NAME = Arctic Village\n",
      "NAME = Mekoryuk\n",
      "NAME = Hooper Bay\n",
      "NAME = Mountain Village\n",
      "NAME = Chevak\n",
      "NAME = Scammon Bay\n",
      "NAME = Saint Mary's\n",
      "NAME = Sheldon Point\n",
      "NAME = Saint Michael\n",
      "NAME = Stebbins\n",
      "NAME = Unalakleet\n",
      "NAME = Shaktoolik\n",
      "NAME = Kaltag\n",
      "NAME = Nulato\n",
      "NAME = Huslia\n",
      "NAME = Hughes\n",
      "NAME = Anaktuvuk Pass\n",
      "NAME = Galbraith Lake\n",
      "NAME = Barter Island LRRS\n",
      "NAME = Alakanuk\n",
      "NAME = Emmonak\n",
      "NAME = Elim\n",
      "NAME = Golovin\n",
      "NAME = White Mountain\n",
      "NAME = Buckland\n",
      "NAME = Selawik\n",
      "NAME = Kobuk\n",
      "NAME = Shungnak\n",
      "NAME = Ambler\n",
      "NAME = Deadhorse\n",
      "NAME = Nome\n",
      "NAME = Deering\n",
      "NAME = Bob Baker Memorial\n",
      "NAME = Robert (Bob) Curtis Memorial\n",
      "NAME = Ralph Wien Memorial\n",
      "NAME = Nuiqsut\n",
      "NAME = Savoonga\n",
      "NAME = Teller\n",
      "NAME = Brevig Mission\n",
      "NAME = Shishmaref\n",
      "NAME = Wales\n",
      "NAME = Noatak\n",
      "NAME = Red Dog\n",
      "NAME = Atqasuk Edward Burnell Sr. Memorial\n",
      "NAME = Gambell\n",
      "NAME = Point Hope\n",
      "NAME = Point Lay LRRS\n",
      "NAME = Wainwright\n",
      "NAME = Wiley Post-Will Rogers Memorial\n",
      "NAME = New Stuyahok\n",
      "NAME = Ted Stevens Anchorage International\n",
      "NAME = Iliamna\n",
      "NAME = Koyukuk\n"
     ]
    }
   ],
   "source": [
    "import arcpy\n",
    "import arcpy.da\n",
    "arcpy.env.workspace = r\"C:\\Geog503\\data\"\n",
    "fc = \"airports.shp\"\n",
    "fields = [\"NAME\"]\n",
    "with arcpy.da.SearchCursor(fc, fields) as cursor:\n",
    "    for row in cursor:\n",
    "        print(\"NAME = {0}\".format(row[0]))"
   ]
  },
  {
   "cell_type": "markdown",
   "metadata": {},
   "source": [
    "* **Shape Field Tokens:**\n",
    "\n",
    "<img style=\"float: left;\" src=\"images/cursor_shape_tokens.png\" width = 450>"
   ]
  },
  {
   "cell_type": "code",
   "execution_count": 3,
   "metadata": {
    "collapsed": false
   },
   "outputs": [
    {
     "name": "stdout",
     "output_type": "stream",
     "text": [
      "NAME = Hyder; X = -130.012527466; Y = 55.9043388367\n",
      "NAME = Chignik Lagoon; X = -158.532562256; Y = 56.3078689575\n",
      "NAME = Koyuk; X = -161.151077271; Y = 64.9380722046\n",
      "NAME = Kivalina; X = -164.525588989; Y = 67.7452087402\n",
      "NAME = Ketchikan Harbor; X = -131.68510437; Y = 55.3478088379\n",
      "NAME = Metlakatla; X = -131.578063965; Y = 55.1310462952\n",
      "NAME = Waterfall; X = -133.243331909; Y = 55.2963218689\n",
      "NAME = Ketchikan; X = -131.713745117; Y = 55.3555679321\n",
      "NAME = Kasaan; X = -132.397521973; Y = 55.5374145508\n",
      "NAME = Hollis; X = -132.646087646; Y = 55.4815864563\n",
      "NAME = Craig; X = -133.147796631; Y = 55.4788322449\n",
      "NAME = Thorne Bay; X = -132.536682129; Y = 55.6879615784\n",
      "NAME = Coffman Cove; X = -132.841964722; Y = 56.0032424927\n",
      "NAME = Meyers Chuck; X = -132.255020142; Y = 55.7396354675\n",
      "NAME = Klawock; X = -133.076004028; Y = 55.5792350769\n",
      "NAME = Yes Bay Lodge; X = -131.801132202; Y = 55.9163017273\n",
      "NAME = Wrangell; X = -132.369827271; Y = 56.4843254089\n",
      "NAME = Petersburg James A. Johnson; X = -132.945281982; Y = 56.801651001\n",
      "NAME = Kake; X = -133.945617676; Y = 56.9729957581\n",
      "NAME = Sitka Rocky Gutierrez; X = -135.361602783; Y = 57.0471382141\n",
      "NAME = Angoon; X = -134.585098267; Y = 57.5035552979\n",
      "NAME = Funter Bay; X = -134.897903442; Y = 58.2543869019\n",
      "NAME = Tenakee; X = -135.218444824; Y = 57.7796592712\n",
      "NAME = Hawk Inlet; X = -134.755950928; Y = 58.1274414062\n",
      "NAME = Hoonah; X = -135.409698486; Y = 58.0960922241\n",
      "NAME = Juneau International; X = -134.576278687; Y = 58.3549613953\n",
      "NAME = Pelican; X = -136.23626709; Y = 57.9551734924\n",
      "NAME = Elfin Cove; X = -136.347396851; Y = 58.1951828003\n",
      "NAME = Excursion Inlet; X = -135.449035645; Y = 58.4204978943\n",
      "NAME = Gustavus; X = -135.707382202; Y = 58.4243812561\n",
      "NAME = Haines; X = -135.522109985; Y = 59.2452278137\n",
      "NAME = Skagway; X = -135.315658569; Y = 59.4600601196\n",
      "NAME = Yakutat; X = -139.660232544; Y = 59.5033607483\n",
      "NAME = Icy Bay; X = -141.661773682; Y = 59.9690170288\n",
      "NAME = Alitak; X = -154.247848511; Y = 56.8994865417\n",
      "NAME = Akhiok; X = -154.182556152; Y = 56.9386901855\n",
      "NAME = San Juan/Uganik Bay; X = -153.320602417; Y = 57.7303733826\n",
      "NAME = Old Harbor; X = -153.269744873; Y = 57.2181015015\n",
      "NAME = Larsen Bay; X = -153.978424072; Y = 57.5351066589\n",
      "NAME = Trident Basin; X = -152.391387939; Y = 57.780834198\n",
      "NAME = Kodiak; X = -152.493850708; Y = 57.7499694824\n",
      "NAME = Ouzinkie; X = -152.50050354; Y = 57.9228744507\n",
      "NAME = Port Lions; X = -152.846099854; Y = 57.8853759766\n",
      "NAME = Merle K. (Mudhole) Smith; X = -145.477645874; Y = 60.4918327332\n",
      "NAME = Sand Point; X = -160.517700195; Y = 55.3150291443\n",
      "NAME = Ivanof Bay; X = -159.48866272; Y = 55.8975334167\n",
      "NAME = Perryville; X = -159.158584595; Y = 55.9080619812\n",
      "NAME = Chignik Fisheries; X = -158.590927124; Y = 56.3178291321\n",
      "NAME = Chignik Lake; X = -158.775360107; Y = 56.2550468445\n",
      "NAME = Chignik; X = -158.37322998; Y = 56.3114624023\n",
      "NAME = Karluk; X = -154.450378418; Y = 57.5670623779\n",
      "NAME = Port Graham; X = -151.831542969; Y = 59.3482589722\n",
      "NAME = Seldovia; X = -151.704055786; Y = 59.442440033\n",
      "NAME = English Bay; X = -151.92515564; Y = 59.3521499634\n",
      "NAME = Homer; X = -151.476577759; Y = 59.6455574036\n",
      "NAME = Seward; X = -149.418807983; Y = 60.1269378662\n",
      "NAME = Girdwood; X = -149.125793457; Y = 60.9660949707\n",
      "NAME = Valdez; X = -146.24836731; Y = 61.1339492798\n",
      "NAME = Chitina; X = -144.427093506; Y = 61.5828590393\n",
      "NAME = Gulkana; X = -145.456634521; Y = 62.1548881531\n",
      "NAME = Tetlin; X = -142.52192688; Y = 63.1338233948\n",
      "NAME = King Cove; X = -162.266220093; Y = 55.1163482666\n",
      "NAME = Cold Bay; X = -162.724258423; Y = 55.2056007385\n",
      "NAME = False Pass; X = -163.410324097; Y = 54.8474464417\n",
      "NAME = Port Heiden; X = -158.631820679; Y = 56.9594345093\n",
      "NAME = Pilot Point; X = -157.567443848; Y = 57.5803794861\n",
      "NAME = Egegik; X = -157.380981445; Y = 58.1883735657\n",
      "NAME = Lake Brooks; X = -155.777389526; Y = 58.5548439026\n",
      "NAME = Levelock; X = -156.865219116; Y = 59.1181640625\n",
      "NAME = King Salmon; X = -156.649215698; Y = 58.6768035889\n",
      "NAME = South Naknek Nr 2; X = -157.008255005; Y = 58.7034378052\n",
      "NAME = Tibbetts; X = -157.007141113; Y = 58.7342681885\n",
      "NAME = Kulik Lake; X = -155.121276855; Y = 58.9820785522\n",
      "NAME = Kokhanok; X = -154.802703857; Y = 59.4326438904\n",
      "NAME = Pedro Bay; X = -154.123840332; Y = 59.7896080017\n",
      "NAME = Igiugig; X = -155.903274536; Y = 59.3237342834\n",
      "NAME = Nondalton; X = -154.839691162; Y = 59.9790420532\n",
      "NAME = Port Alsworth; X = -154.318878174; Y = 60.204334259\n",
      "NAME = Soldotna; X = -151.032440186; Y = 60.4761390686\n",
      "NAME = Kenai Municipal; X = -151.247528076; Y = 60.5719985962\n",
      "NAME = Tyonek; X = -151.138076782; Y = 61.0766639709\n",
      "NAME = Trading Bay Production; X = -151.798919678; Y = 60.8155479431\n",
      "NAME = Beluga; X = -151.043899536; Y = 61.1722183228\n",
      "NAME = Merrill Field; X = -149.846160889; Y = 61.2143783569\n",
      "NAME = Lake Hood; X = -149.971939087; Y = 61.1800041199\n",
      "NAME = Elmendorf Air Force Base; X = -149.793869019; Y = 61.2530632019\n",
      "NAME = Palmer Municipal; X = -149.088821411; Y = 61.5947418213\n",
      "NAME = Willow; X = -150.05166626; Y = 61.7544174194\n",
      "NAME = Skelton; X = -147.168869019; Y = 61.93699646\n",
      "NAME = Tok; X = -143.006118774; Y = 63.2954826355\n",
      "NAME = Eagle; X = -141.150924683; Y = 64.7763900757\n",
      "NAME = Akutan; X = -165.785308838; Y = 54.1324653625\n",
      "NAME = Unalaska; X = -166.543502808; Y = 53.900138855\n",
      "NAME = Ekuk; X = -158.558837891; Y = 58.8111915588\n",
      "NAME = Clarks Point; X = -158.545227051; Y = 58.8423042297\n",
      "NAME = Manokotak; X = -159.049972534; Y = 58.9889640808\n",
      "NAME = Ekwok; X = -157.474411011; Y = 59.3539962769\n",
      "NAME = Dillingham; X = -158.503341675; Y = 59.0454139709\n",
      "NAME = Koliganek; X = -157.259475708; Y = 59.7266426086\n",
      "NAME = Skwentna; X = -151.191360474; Y = 61.9652938843\n",
      "NAME = Talkeetna; X = -150.093688965; Y = 62.3204994202\n",
      "NAME = McKinley National Park; X = -148.910644531; Y = 63.7325973511\n",
      "NAME = Platinum; X = -161.819671631; Y = 59.0113563538\n",
      "NAME = Goodnews; X = -161.581390381; Y = 59.117275238\n",
      "NAME = Twin Hills; X = -160.273040771; Y = 59.0756225586\n",
      "NAME = Togiak; X = -160.39692688; Y = 59.0528411865\n",
      "NAME = Stony River 2; X = -156.588180542; Y = 61.7898750305\n",
      "NAME = Sleetmute; X = -157.155700684; Y = 61.709312439\n",
      "NAME = Nikolai; X = -154.363967896; Y = 63.0174484253\n",
      "NAME = Kantishna; X = -150.99395752; Y = 63.5417137146\n",
      "NAME = Minchumina; X = -152.300674438; Y = 63.8805656433\n",
      "NAME = Healy River; X = -148.968978882; Y = 63.8662071228\n",
      "NAME = Eielson Air Force Base; X = -147.101501465; Y = 64.6656646729\n",
      "NAME = Wainwright Army Air Field; X = -147.614440918; Y = 64.8375015259\n",
      "NAME = Fairbanks International; X = -147.859664917; Y = 64.8136749268\n",
      "NAME = Circle City; X = -144.075805664; Y = 65.8304901123\n",
      "NAME = Chalkyitsik; X = -143.735946655; Y = 66.6496887207\n",
      "NAME = Atka; X = -174.206344604; Y = 52.2203483582\n",
      "NAME = Quinhagak; X = -161.879486084; Y = 59.7570075989\n",
      "NAME = Eek; X = -162.005615234; Y = 60.2159042358\n",
      "NAME = Kongiganak; X = -162.881729126; Y = 59.9595069885\n",
      "NAME = Kwigillingok; X = -163.167556763; Y = 59.876449585\n",
      "NAME = Tuntutuliak; X = -162.667007446; Y = 60.3353462219\n",
      "NAME = Akiak; X = -161.227020264; Y = 60.9048118591\n",
      "NAME = Kwethluk; X = -161.445343018; Y = 60.8042526245\n",
      "NAME = Tuluksak; X = -160.968414307; Y = 61.0967636108\n",
      "NAME = Napaskiak; X = -161.776733398; Y = 60.7036895752\n",
      "NAME = Akiachak; X = -161.435073853; Y = 60.9078636169\n",
      "NAME = Napakiak; X = -161.969512939; Y = 60.6911888123\n",
      "NAME = Bethel; X = -161.837997437; Y = 60.7797775269\n",
      "NAME = Aniak; X = -159.543045044; Y = 61.5815963745\n",
      "NAME = Kalskag; X = -160.341323853; Y = 61.5362739563\n",
      "NAME = Red Devil; X = -157.347930908; Y = 61.7876434326\n",
      "NAME = Crooked Creek; X = -158.137115479; Y = 61.8690223694\n",
      "NAME = McGrath; X = -155.605758667; Y = 62.95287323\n",
      "NAME = Ralph M. Calhoun Memorial; X = -152.109390259; Y = 65.1743927002\n",
      "NAME = Minto; X = -149.3699646; Y = 65.1437072754\n",
      "NAME = Rampart; X = -150.142807007; Y = 65.5078659058\n",
      "NAME = Stevens Village; X = -149.095916748; Y = 66.0090026855\n",
      "NAME = Beaver; X = -147.4012146; Y = 66.3615493774\n",
      "NAME = Birch Creek; X = -145.824035645; Y = 66.2739944458\n",
      "NAME = Fort Yukon; X = -145.250411987; Y = 66.5714874268\n",
      "NAME = Venetie; X = -146.413772583; Y = 67.0226974487\n",
      "NAME = Adak Naval Air Facility; X = -176.646026611; Y = 51.8779640198\n",
      "NAME = Saint George; X = -169.663742065; Y = 56.5773544312\n",
      "NAME = Saint Paul Island; X = -170.220443726; Y = 57.1673316956\n",
      "NAME = Newtok; X = -164.656219482; Y = 60.9236526489\n",
      "NAME = Kipnuk; X = -164.030517578; Y = 59.9329528809\n",
      "NAME = Chefornak; X = -164.285629272; Y = 60.1492271423\n",
      "NAME = Nightmute; X = -164.685638428; Y = 60.47032547\n",
      "NAME = Toksook Bay; X = -165.113967896; Y = 60.5333747864\n",
      "NAME = Tununak; X = -165.273132324; Y = 60.5755958557\n",
      "NAME = Atmautluak; X = -162.273132324; Y = 60.8667449951\n",
      "NAME = Nunapitchuk; X = -162.439117432; Y = 60.9058265686\n",
      "NAME = Kasigluk; X = -162.524810791; Y = 60.8720207214\n",
      "NAME = Russian Mission; X = -161.319473267; Y = 61.77967453\n",
      "NAME = Marshall; X = -162.069046021; Y = 61.8659210205\n",
      "NAME = Pilot Station; X = -162.892929077; Y = 61.9339637756\n",
      "NAME = Holy Cross; X = -159.77494812; Y = 62.1882972717\n",
      "NAME = Shageluk; X = -159.569061279; Y = 62.6951179504\n",
      "NAME = Anvik; X = -160.18989563; Y = 62.6485824585\n",
      "NAME = Grayling; X = -160.064910889; Y = 62.8945617676\n",
      "NAME = Edward G. Pitka Sr.; X = -156.937423706; Y = 64.7361755371\n",
      "NAME = Ruby; X = -155.469894409; Y = 64.7272186279\n",
      "NAME = Bettles; X = -151.528060913; Y = 66.9152832031\n",
      "NAME = New Allakaket; X = -152.6222229; Y = 66.551940918\n",
      "NAME = Prospect Creek; X = -150.643798828; Y = 66.8128814697\n",
      "NAME = Coldfoot; X = -150.206573486; Y = 67.2516326904\n",
      "NAME = Arctic Village; X = -145.57611084; Y = 68.1160812378\n",
      "NAME = Mekoryuk; X = -166.270614624; Y = 60.371421814\n",
      "NAME = Hooper Bay; X = -166.146774292; Y = 61.524181366\n",
      "NAME = Mountain Village; X = -163.682052612; Y = 62.0953636169\n",
      "NAME = Chevak; X = -165.583724976; Y = 61.5336341858\n",
      "NAME = Scammon Bay; X = -165.573745728; Y = 61.8445396423\n",
      "NAME = Saint Mary's; X = -163.302108765; Y = 62.0604858398\n",
      "NAME = Sheldon Point; X = -164.84777832; Y = 62.5205574036\n",
      "NAME = Saint Michael; X = -162.110366821; Y = 63.4900512695\n",
      "NAME = Stebbins; X = -162.282745361; Y = 63.5159187317\n",
      "NAME = Unalakleet; X = -160.798950195; Y = 63.8883590698\n",
      "NAME = Shaktoolik; X = -161.202529907; Y = 64.3626327515\n",
      "NAME = Kaltag; X = -158.744140625; Y = 64.3257217407\n",
      "NAME = Nulato; X = -158.073196411; Y = 64.7298202515\n",
      "NAME = Huslia; X = -156.387496948; Y = 65.700553894\n",
      "NAME = Hughes; X = -154.263183594; Y = 66.0411224365\n",
      "NAME = Anaktuvuk Pass; X = -151.74168396; Y = 68.1343231201\n",
      "NAME = Galbraith Lake; X = -149.490020752; Y = 68.4790649414\n",
      "NAME = Barter Island LRRS; X = -143.577041626; Y = 70.1339035034\n",
      "NAME = Alakanuk; X = -164.659927368; Y = 62.6800460815\n",
      "NAME = Emmonak; X = -164.491043091; Y = 62.7851867676\n",
      "NAME = Elim; X = -162.270065308; Y = 64.6140060425\n",
      "NAME = Golovin; X = -163.039520264; Y = 64.5434341431\n",
      "NAME = White Mountain; X = -163.41255188; Y = 64.6891937256\n",
      "NAME = Buckland; X = -161.151977539; Y = 65.9822845459\n",
      "NAME = Selawik; X = -159.986190796; Y = 66.6000289917\n",
      "NAME = Kobuk; X = -156.861053467; Y = 66.9091720581\n",
      "NAME = Shungnak; X = -157.150512695; Y = 66.8891677856\n",
      "NAME = Ambler; X = -157.853622437; Y = 67.1061019897\n",
      "NAME = Deadhorse; X = -148.465164185; Y = 70.1947555542\n",
      "NAME = Nome; X = -165.445251465; Y = 64.5121994019\n",
      "NAME = Deering; X = -162.766601562; Y = 66.0682067871\n",
      "NAME = Bob Baker Memorial; X = -160.43586731; Y = 66.9793777466\n",
      "NAME = Robert (Bob) Curtis Memorial; X = -161.027786255; Y = 66.8285293579\n",
      "NAME = Ralph Wien Memorial; X = -162.598556519; Y = 66.8846740723\n",
      "NAME = Nuiqsut; X = -151.005554199; Y = 70.2099533081\n",
      "NAME = Savoonga; X = -170.492630005; Y = 63.6863937378\n",
      "NAME = Teller; X = -166.336013794; Y = 65.2408981323\n",
      "NAME = Brevig Mission; X = -166.463165283; Y = 65.3313598633\n",
      "NAME = Shishmaref; X = -166.089553833; Y = 66.2495651245\n",
      "NAME = Wales; X = -168.09916687; Y = 65.6239395142\n",
      "NAME = Noatak; X = -162.975280762; Y = 67.5620803833\n",
      "NAME = Red Dog; X = -162.902954102; Y = 68.031288147\n",
      "NAME = Atqasuk Edward Burnell Sr. Memorial; X = -157.43572998; Y = 70.4672775269\n",
      "NAME = Gambell; X = -171.732818604; Y = 63.7667655945\n",
      "NAME = Point Hope; X = -166.799301147; Y = 68.348777771\n",
      "NAME = Point Lay LRRS; X = -163.005340576; Y = 69.7328720093\n",
      "NAME = Wainwright; X = -159.994750977; Y = 70.6380004883\n",
      "NAME = Wiley Post-Will Rogers Memorial; X = -156.76600647; Y = 71.285446167\n",
      "NAME = New Stuyahok; X = -157.327194214; Y = 59.4495544434\n",
      "NAME = Ted Stevens Anchorage International; X = -149.996185303; Y = 61.1743202209\n",
      "NAME = Iliamna; X = -154.910964966; Y = 59.7537994385\n",
      "NAME = Koyukuk; X = -157.715835571; Y = 64.8771438599\n"
     ]
    }
   ],
   "source": [
    "import arcpy\n",
    "import arcpy.da\n",
    "arcpy.env.workspace = r\"C:\\Geog503\\data\"\n",
    "fc = \"airports.shp\"\n",
    "fields = [\"NAME\",\"SHAPE@X\",\"SHAPE@Y\"]\n",
    "cursor =  arcpy.da.SearchCursor(fc, fields)\n",
    "for row in cursor:\n",
    "    print(\"NAME = {0}; X = {1}; Y = {2}\".format(row[0],row[1],row[2]))"
   ]
  },
  {
   "cell_type": "markdown",
   "metadata": {},
   "source": [
    "## Using the InsertCursor \n",
    "\n",
    "* **General syntax:**\n",
    "    - arcpy.da.InsertCursor(in_table, field_names)\n",
    "    - <http://desktop.arcgis.com/en/arcmap/latest/analyze/arcpy-data-access/insertcursor-class.htm>\n",
    "    \n",
    "* **Parameters:**\n",
    "\n",
    "<img style=\"float: left;\" src=\"images/insert_cursor_params.png\" width = 450>"
   ]
  },
  {
   "cell_type": "markdown",
   "metadata": {},
   "source": [
    "* **Methods:**\n",
    "\n",
    "<img style=\"float: left;\" src=\"images/insert_cursor_methods.png\" width = 450>"
   ]
  },
  {
   "cell_type": "code",
   "execution_count": 4,
   "metadata": {
    "collapsed": true
   },
   "outputs": [],
   "source": [
    "import arcpy\n",
    "import arcpy.da\n",
    "arcpy.env.workspace = r\"C:\\Geog503\\data\"\n",
    "fc = \"airports.shp\"\n",
    "fields = [\"NAME\",\"SHAPE@X\",\"SHAPE@Y\"]\n",
    "cursor =  arcpy.da.InsertCursor(fc, fields)\n",
    "cursor.insertRow([\"Binghamton\",-155,60])\n",
    "del cursor"
   ]
  },
  {
   "cell_type": "code",
   "execution_count": 5,
   "metadata": {
    "collapsed": true
   },
   "outputs": [],
   "source": [
    "import arcpy\n",
    "import arcpy.da\n",
    "arcpy.env.workspace = r\"C:\\Geog503\\data\"\n",
    "fc = \"airports.shp\"\n",
    "fields = [\"NAME\",\"SHAPE@XY\"]\n",
    "cursor =  arcpy.da.InsertCursor(fc,fields)\n",
    "cursor.insertRow([\"Corning\",(-154,55)])\n",
    "del cursor"
   ]
  },
  {
   "cell_type": "markdown",
   "metadata": {},
   "source": [
    "## Using the UpdateCursor \n",
    "\n",
    "* **General syntax:**\n",
    "    - arcpy.da.UpdateCursor(in_table,field_names, (where_clause},{spatial_reference}, (explode_to_points},{sql_clause})\n",
    "    - <http://desktop.arcgis.com/en/arcmap/latest/analyze/arcpy-data-access/updatecursor-class.htm>\n",
    "    \n",
    "* **Parameters:**\n",
    "\n",
    "<img style=\"float: left;\" src=\"images/update_cursor_params.png\" width = 450>"
   ]
  },
  {
   "cell_type": "markdown",
   "metadata": {},
   "source": [
    "* **Methods:**\n",
    "\n",
    "<img style=\"float: left;\" src=\"images/update_cursor_methods.png\" width = 450>"
   ]
  },
  {
   "cell_type": "markdown",
   "metadata": {},
   "source": [
    "* **updateRow example:**"
   ]
  },
  {
   "cell_type": "code",
   "execution_count": 6,
   "metadata": {
    "collapsed": true
   },
   "outputs": [],
   "source": [
    "import arcpy\n",
    "arcpy.env.workspace = r\"C:\\Geog503\\data\"\n",
    "fc = \"airports.shp\"\n",
    "fields = [\"NAME\"]\n",
    "cursor =  arcpy.da.UpdateCursor(fc, fields)\n",
    "for row in cursor:\n",
    "    if row[0] == \"Binghamton\":\n",
    "        row[0] = \"Albany\"\n",
    "        cursor.updateRow(row)"
   ]
  },
  {
   "cell_type": "markdown",
   "metadata": {},
   "source": [
    "* **deleteRow example:**"
   ]
  },
  {
   "cell_type": "code",
   "execution_count": 7,
   "metadata": {
    "collapsed": true
   },
   "outputs": [],
   "source": [
    "import arcpy\n",
    "arcpy.env.workspace = r\"C:\\Geog503\\data\"\n",
    "fc = \"airports.shp\"\n",
    "fields = [\"NAME\"]\n",
    "cursor =  arcpy.da.UpdateCursor(fc, fields)\n",
    "for row in cursor:\n",
    "    if row[0] == \"Albany\" or row[0] == \"Corning\":\n",
    "        cursor.deleteRow()"
   ]
  },
  {
   "cell_type": "markdown",
   "metadata": {},
   "source": [
    "## Cursor Table Locking\n",
    "\n",
    "* **Shared lock**\n",
    "    - Placed on a table any time a table or feature class is accessed by ArcGIS.\n",
    "    - Examples of shared locks: Displaying a feature class in ArcMap or previewing a table in ArcCatalog.\n",
    "\n",
    "* **Exclusive lock**\n",
    "    - Applied when changes are made to a table or feature class, either to field values or to the schema.\n",
    "    - Examples of when an exclusive lock is applied: Using an UpdateCursor or InsertCursor in a Python IDE, saving edits to a feature class in ArcMap, or changing the schema in ArcCatalog.\n",
    "    \n",
    "* **Release the lock**\n",
    "    - del row\n",
    "    - del cursor"
   ]
  },
  {
   "cell_type": "code",
   "execution_count": 8,
   "metadata": {
    "collapsed": true
   },
   "outputs": [],
   "source": [
    "import arcpy\n",
    "arcpy.env.workspace = r\"C:\\Geog503\\data\"\n",
    "fc = \"airports.shp\"\n",
    "fields = [\"NAME\"]\n",
    "cursor =  arcpy.da.UpdateCursor(fc, fields)\n",
    "for row in cursor:\n",
    "    if row[0] == \"Albany\":\n",
    "        cursor.deleteRow()\n",
    "del row\n",
    "del cursor"
   ]
  },
  {
   "cell_type": "markdown",
   "metadata": {},
   "source": [
    "## Using SQL in Python\n",
    "\n",
    "* **Structured Query Language (SQL)**\n",
    "    - Apply a query based on attribute table\n",
    "    - As where_clause parameters in many tools in ArcToolbox\n",
    "\n",
    "* **Example:**\n",
    "    - SearchCursor(in_table, field_names {where_clause}, {spatial_reference}, {fields}, {explode_to_points})\n",
    "    - Select_analysis(in_features, out_feature_class, {where_clause})"
   ]
  },
  {
   "cell_type": "code",
   "execution_count": 9,
   "metadata": {
    "collapsed": false
   },
   "outputs": [
    {
     "name": "stdout",
     "output_type": "stream",
     "text": [
      "GNU\n"
     ]
    }
   ],
   "source": [
    "import arcpy\n",
    "arcpy.env.workspace = r\"C:\\Geog503\\data\"\n",
    "fc = \"airports.shp\"\n",
    "fields = [\"NAME\",\"LOCID\"]\n",
    "cursor =  arcpy.da.SearchCursor(fc, fields)\n",
    "for row in cursor:\n",
    "    if row[0] == \"Goodnews\":\n",
    "        print(row[1])"
   ]
  },
  {
   "cell_type": "markdown",
   "metadata": {},
   "source": [
    "* **Field delimiters**\n",
    "    - (\" \") for shapefiles and file geodatabase feature classes\n",
    "    - ([ ]) for personal geodatabase feature classes\n",
    "    \n",
    "* **AddFieldDelimiters function**\n",
    "    - AddFieldDelimiters(datasource,field)\n",
    "    \n",
    "<img style=\"float: left;\" src=\"images/sql.png\" width = 450>\n"
   ]
  },
  {
   "cell_type": "code",
   "execution_count": 10,
   "metadata": {
    "collapsed": false
   },
   "outputs": [
    {
     "name": "stdout",
     "output_type": "stream",
     "text": [
      "\"NAME\"='Goodnews'\n",
      "GNU\n"
     ]
    }
   ],
   "source": [
    "import arcpy\n",
    "arcpy.env.workspace = r\"C:\\Geog503\\data\"\n",
    "fc = \"airports.shp\"\n",
    "fieldname = \"NAME\"\n",
    "delimfield = arcpy.AddFieldDelimiters(fc,fieldname)\n",
    "where_clause = delimfield + \"='Goodnews'\"\n",
    "print(where_clause)\n",
    "cursor =  arcpy.da.SearchCursor(fc,[\"NAME\",\"LOCID\"],where_clause)\n",
    "for row in cursor:\n",
    "    print(row[1])"
   ]
  },
  {
   "cell_type": "markdown",
   "metadata": {},
   "source": [
    "## Validating Table Names\n",
    "\n",
    "* **Determine whether a table name is valid for a workspace**\n",
    "* **General syntax:**\n",
    "    - arcpy.ValidateTableName(name, {workspace})\n",
    "* **Any invalid characters will be replaced by an underscore (_)**\n"
   ]
  },
  {
   "cell_type": "code",
   "execution_count": 11,
   "metadata": {
    "collapsed": false
   },
   "outputs": [
    {
     "name": "stdout",
     "output_type": "stream",
     "text": [
      "all_roads\n"
     ]
    }
   ],
   "source": [
    "import arcpy\n",
    "workspace = r\"C:\\Geog503\\data\\testdata.gdb\"\n",
    "table = arcpy.ValidateTableName(\"all roads\",workspace)\n",
    "print(table)"
   ]
  },
  {
   "cell_type": "code",
   "execution_count": 12,
   "metadata": {
    "collapsed": true
   },
   "outputs": [],
   "source": [
    "import arcpy\n",
    "import os\n",
    "arcpy.env.workspace = r\"C:\\Geog503\\data\"\n",
    "outworkspace =  r\"C:\\Geog503\\data\\testdata.gdb\"\n",
    "fclist = arcpy.ListFeatureClasses()\n",
    "for fc in fclist:\n",
    "    fcname = arcpy.Describe(fc).basename\n",
    "    newfcname = arcpy.ValidateTableName(fcname)\n",
    "    outfc = os.path.join(outworkspace,newfcname)\n",
    "    arcpy.CopyFeatures_management(fc,outfc)"
   ]
  },
  {
   "cell_type": "markdown",
   "metadata": {},
   "source": [
    "## Validating Field Names\n",
    "\n",
    "* **Determine whether a field name is valid for a workspace**\n",
    "* **General syntax:**\n",
    "    - arcpy.ValidateFieldName(name, {workspace})\n",
    "* **Any invalid characters will be replaced by an underscore (_)**"
   ]
  },
  {
   "cell_type": "code",
   "execution_count": 13,
   "metadata": {
    "collapsed": false
   },
   "outputs": [
    {
     "data": {
      "text/plain": [
       "<Result 'C:\\\\geog503\\\\data\\\\airports.shp'>"
      ]
     },
     "execution_count": 13,
     "metadata": {},
     "output_type": "execute_result"
    }
   ],
   "source": [
    "import arcpy\n",
    "fc = r\"C:\\Geog503\\data\\airports.shp\"\n",
    "fieldname = arcpy.ValidateFieldName(\"NEW%&\",fc)\n",
    "arcpy.AddField_management(fc,fieldname,\"TEXT\",\"\",\"\",10)"
   ]
  },
  {
   "cell_type": "code",
   "execution_count": 14,
   "metadata": {
    "collapsed": false
   },
   "outputs": [
    {
     "name": "stdout",
     "output_type": "stream",
     "text": [
      "FID\n",
      "Shape\n",
      "AREA\n",
      "PERIMETER\n",
      "AIRPRTX020\n",
      "LOCID\n",
      "FEATURE\n",
      "NAME\n",
      "TOT_ENP\n",
      "STATE\n",
      "COUNTY\n",
      "FIPS\n",
      "STATE_FIPS\n",
      "NEW__\n"
     ]
    }
   ],
   "source": [
    "fields = arcpy.ListFields(fc)\n",
    "for field in fields:\n",
    "    print(field.name)"
   ]
  },
  {
   "cell_type": "markdown",
   "metadata": {},
   "source": [
    "## Creating Unique Names\n",
    "\n",
    "* **Creates a unique filename in the specified workspace by appending a number to the input name**"
   ]
  },
  {
   "cell_type": "code",
   "execution_count": 15,
   "metadata": {
    "collapsed": false
   },
   "outputs": [
    {
     "data": {
      "text/plain": [
       "<Result 'C:\\\\geog503\\\\data\\\\Results\\\\buffer.shp'>"
      ]
     },
     "execution_count": 15,
     "metadata": {},
     "output_type": "execute_result"
    }
   ],
   "source": [
    "import arcpy\n",
    "arcpy.env.workspace = r\"C:\\Geog503\\data\\Results\"\n",
    "fc = r\"C:\\Geog503\\data\\airports.shp\"\n",
    "unique_name = arcpy.CreateUniqueName(\"buffer.shp\")\n",
    "arcpy.Buffer_analysis(fc,unique_name,\"1000 FEET\")"
   ]
  },
  {
   "cell_type": "code",
   "execution_count": 16,
   "metadata": {
    "collapsed": false
   },
   "outputs": [
    {
     "data": {
      "text/plain": [
       "<Result 'C:\\\\geog503\\\\data\\\\Results\\\\buffer0.shp'>"
      ]
     },
     "execution_count": 16,
     "metadata": {},
     "output_type": "execute_result"
    }
   ],
   "source": [
    "import arcpy\n",
    "arcpy.env.workspace = r\"C:\\Geog503\\data\\Results\"\n",
    "fc = r\"C:\\Geog503\\data\\airports.shp\"\n",
    "unique_name = arcpy.CreateUniqueName(\"buffer.shp\")\n",
    "arcpy.Buffer_analysis(fc,unique_name,\"1000 FEET\")"
   ]
  },
  {
   "cell_type": "markdown",
   "metadata": {},
   "source": [
    "## Parsing Table and Field Names\n",
    "\n",
    "* **ParseTableName function**\n",
    "    - Return database name, owner name, and table name.\n",
    "    - Separated by a comma (,)"
   ]
  },
  {
   "cell_type": "code",
   "execution_count": 17,
   "metadata": {
    "collapsed": false
   },
   "outputs": [
    {
     "name": "stdout",
     "output_type": "stream",
     "text": [
      "(null)\n",
      "(null)\n",
      "C:\\Geog503\\data\\airports.shp\n"
     ]
    }
   ],
   "source": [
    "import arcpy\n",
    "arcpy.env.workspace = r\"C:\\Geog503\\data\\Results\"\n",
    "fc = r\"C:\\Geog503\\data\\airports.shp\"\n",
    "fullname = arcpy.ParseTableName(fc)\n",
    "namelist = fullname.split(\", \")\n",
    "databasename = namelist[0]\n",
    "ownername = namelist[1]\n",
    "fcname = namelist[2]\n",
    "print(databasename)\n",
    "print(ownername)\n",
    "print(fcname)"
   ]
  },
  {
   "cell_type": "markdown",
   "metadata": {},
   "source": [
    "## Working with Text Files\n",
    "\n",
    "* **General syntax**\n",
    "    - open(name, {mode}, {buffering})\n",
    "    - <https://docs.python.org/2/tutorial/inputoutput.html#reading-and-writing-files>\n",
    "* **Mode**\n",
    "    - r: read mode\n",
    "    - w: write mode\n",
    "    - +: read/write mode \n",
    "    - b: binary mode others\n",
    "    - a: append mode\n"
   ]
  },
  {
   "cell_type": "code",
   "execution_count": 18,
   "metadata": {
    "collapsed": true
   },
   "outputs": [],
   "source": [
    "f = open(r\"C:\\Geog503\\data\\Results\\mytext.txt\",\"w\")\n",
    "f.write(\"Binghamton University\")\n",
    "f.close()"
   ]
  },
  {
   "cell_type": "markdown",
   "metadata": {},
   "source": [
    "###  Reading Text Files\n",
    "\n",
    "* **General syntax**\n",
    "    - open(name, \"r\", {buffering})"
   ]
  },
  {
   "cell_type": "code",
   "execution_count": 19,
   "metadata": {
    "collapsed": false
   },
   "outputs": [
    {
     "name": "stdout",
     "output_type": "stream",
     "text": [
      "Binghamton\n",
      " \n",
      "University\n",
      "Binghamton University\n"
     ]
    }
   ],
   "source": [
    "f = open(r\"C:\\Geog503\\data\\Results\\mytext.txt\")\n",
    "print(f.read(10))\n",
    "print(f.read(1))\n",
    "print(f.read(10))\n",
    "f.seek(0)\n",
    "print(f.read())\n",
    "f.close()"
   ]
  },
  {
   "cell_type": "markdown",
   "metadata": {},
   "source": [
    "###  Writing Text Files\n",
    "\n",
    "* **General syntax**\n",
    "    - open(name, \"a\", {buffering})"
   ]
  },
  {
   "cell_type": "code",
   "execution_count": 20,
   "metadata": {
    "collapsed": true
   },
   "outputs": [],
   "source": [
    "f = open(r\"C:\\Geog503\\data\\Results\\mytext.txt\",\"a\")\n",
    "f.write(\"\\nGeography Dept\")\n",
    "f.write(\"\\nGeog 503A\")\n",
    "f.close()"
   ]
  },
  {
   "cell_type": "code",
   "execution_count": 21,
   "metadata": {
    "collapsed": false
   },
   "outputs": [
    {
     "name": "stdout",
     "output_type": "stream",
     "text": [
      "Binghamton University\n",
      "Geography Dept\n",
      "Geog 503A\n"
     ]
    }
   ],
   "source": [
    "f = open(r\"C:\\Geog503\\data\\Results\\mytext.txt\")\n",
    "print(f.read())\n",
    "f.close()"
   ]
  },
  {
   "cell_type": "markdown",
   "metadata": {},
   "source": [
    "###  Reading Text Files\n",
    "\n",
    "* **Three functions:**\n",
    "    - read()\n",
    "    - readline()\n",
    "    - readlines()"
   ]
  },
  {
   "cell_type": "code",
   "execution_count": 22,
   "metadata": {
    "collapsed": false
   },
   "outputs": [
    {
     "name": "stdout",
     "output_type": "stream",
     "text": [
      "Binghamton University\n",
      "\n",
      "Geography Dept\n",
      "\n",
      "Geog 503A\n"
     ]
    }
   ],
   "source": [
    "f = open(r\"C:\\Geog503\\data\\Results\\mytext.txt\")\n",
    "print(f.readline())\n",
    "print(f.readline())\n",
    "print(f.readline())\n",
    "f.close()"
   ]
  },
  {
   "cell_type": "code",
   "execution_count": 23,
   "metadata": {
    "collapsed": false
   },
   "outputs": [
    {
     "name": "stdout",
     "output_type": "stream",
     "text": [
      "['Binghamton University\\n', 'Geography Dept\\n', 'Geog 503A']\n"
     ]
    }
   ],
   "source": [
    "f = open(r\"C:\\Geog503\\data\\Results\\mytext.txt\")\n",
    "print(f.readlines())\n",
    "f.close()"
   ]
  },
  {
   "cell_type": "code",
   "execution_count": 24,
   "metadata": {
    "collapsed": true
   },
   "outputs": [],
   "source": [
    "f = open(r\"C:\\Geog503\\data\\Results\\mytext.txt\")\n",
    "lines = f.readlines()\n",
    "f.close()\n",
    "lines[2] = \"GIS Programming\"\n",
    "f = open(r\"C:\\Geog503\\data\\Results\\newtext.txt\",\"w\")\n",
    "f.writelines(lines)\n",
    "f.close()"
   ]
  },
  {
   "cell_type": "code",
   "execution_count": 25,
   "metadata": {
    "collapsed": false,
    "scrolled": true
   },
   "outputs": [
    {
     "name": "stdout",
     "output_type": "stream",
     "text": [
      "Binghamton University\n",
      "Geography Dept\n",
      "GIS Programming\n"
     ]
    }
   ],
   "source": [
    "f = open(r\"C:\\Geog503\\data\\Results\\newtext.txt\")\n",
    "print(f.read())\n",
    "f.close()"
   ]
  },
  {
   "cell_type": "code",
   "execution_count": 26,
   "metadata": {
    "collapsed": false
   },
   "outputs": [
    {
     "name": "stdout",
     "output_type": "stream",
     "text": [
      "Binghamton University\n",
      "\n",
      "Geography Dept\n",
      "\n",
      "Geog 503A\n",
      "*********************\n",
      "Binghamton University\n",
      "\n",
      "Geography Dept\n",
      "\n",
      "Geog 503A\n",
      "*********************\n",
      "Binghamton University\n",
      "\n",
      "Geography Dept\n",
      "\n",
      "Geog 503A\n"
     ]
    }
   ],
   "source": [
    "f = open(r\"C:\\Geog503\\data\\Results\\mytext.txt\")\n",
    "for line in f:\n",
    "    print(line)\n",
    "print(\"*********************\")\n",
    "f.seek(0)\n",
    "while True:\n",
    "    line = f.readline()\n",
    "    if not line: break\n",
    "    print(line)\n",
    "print(\"*********************\")\n",
    "f.seek(0)\n",
    "for line in f.readlines():\n",
    "    print(line)\n",
    "f.close()"
   ]
  },
  {
   "cell_type": "markdown",
   "metadata": {},
   "source": [
    "### Replacing Text Contents"
   ]
  },
  {
   "cell_type": "code",
   "execution_count": 27,
   "metadata": {
    "collapsed": true
   },
   "outputs": [],
   "source": [
    "in_file = open(r\"C:\\Geog503\\data\\Results\\mytext.txt\")\n",
    "out_file = open(r\"C:\\Geog503\\data\\Results\\newtext.txt\",\"w\")\n",
    "for line in in_file:\n",
    "    str = line.replace(\"Binghamton University\",\"State University of New York at Binghamton\")\n",
    "    out_file.write(str)\n",
    "in_file.close()\n",
    "out_file.close()"
   ]
  },
  {
   "cell_type": "code",
   "execution_count": 28,
   "metadata": {
    "collapsed": false
   },
   "outputs": [
    {
     "name": "stdout",
     "output_type": "stream",
     "text": [
      "State University of New York at Binghamton\n",
      "Geography Dept\n",
      "Geog 503A\n"
     ]
    }
   ],
   "source": [
    "f = open(r\"C:\\Geog503\\data\\Results\\newtext.txt\")\n",
    "print(f.read())\n",
    "f.close()"
   ]
  }
 ],
 "metadata": {
  "anaconda-cloud": {},
  "kernelspec": {
   "display_name": "Python [conda env:arc104]",
   "language": "python",
   "name": "conda-env-arc104-py"
  },
  "language_info": {
   "codemirror_mode": {
    "name": "ipython",
    "version": 2
   },
   "file_extension": ".py",
   "mimetype": "text/x-python",
   "name": "python",
   "nbconvert_exporter": "python",
   "pygments_lexer": "ipython2",
   "version": "2.7.10"
  }
 },
 "nbformat": 4,
 "nbformat_minor": 1
}
