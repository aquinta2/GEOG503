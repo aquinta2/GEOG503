{
 "cells": [
  {
   "cell_type": "markdown",
   "metadata": {},
   "source": [
    "# Jupyter Notebook & Arcpy\n",
    "\n",
    "This tutorial shows you how to configure Jupyter Notebook to work with Arcpy.\n",
    "\n",
    "References:\n",
    "\n",
    "* [Youtube Tutorial](https://www.youtube.com/watch?v=wQk-0xETGbc)\n",
    "* [Blog post](http://amsantac.co/blog/en/2016/06/29/reproducibility-arcpy-jupyter-notebook-r.html)\n"
   ]
  },
  {
   "cell_type": "markdown",
   "metadata": {},
   "source": [
    "## Step 1: \n",
    "\n",
    "Find the versions of numpy and matplotlib ArcGIS is using.\n",
    "\n",
    "Open ArcMap and its Python window, and enter these commands:\n",
    "\n",
    "* import sys, numpy, matplotlib\n",
    "* print(sys.version, numpy.__version__, matplotlib.__version__)\n",
    "\n",
    "output: \n",
    "'2.7.10 (default, May 23 2015, 09:40:32) [MSC v.1500 32 bit (Intel)]', '1.9.2', '1.4.3'"
   ]
  },
  {
   "cell_type": "markdown",
   "metadata": {},
   "source": [
    "## Step 2:\n",
    "\n",
    "Create an Anaconda environment that is compatible with ArcGIS\n",
    "\n",
    "* Download the 32-bit (x86) version of Anaconda (ArcMap [32-bit] can only directly work with 32-bit Python) at https://www.continuum.io/downloads. Skip this step if you already have Anaconda installed in your computer.\n",
    "* Get to the Anaconda Command Prompt (Start -> Search -> Anaconda, pick \"Anaconda Command Prompt\"), Right click, Run as Administrator.\n",
    "* conda create -n arc104 python=2.7.10 numpy=1.9.2 matplotlib=1.4.3 pyparsing xlrd xlwt\n",
    "* conda install -n arc104 python=2.7.10 numpy=1.9.2 matplotlib=1.4.3 pandas scipy  ipython ipython-notebook ipython-qtconsole"
   ]
  },
  {
   "cell_type": "markdown",
   "metadata": {},
   "source": [
    "## Step 3:\n",
    "\n",
    "Configure ArcGIS to see Anaconda and vice versa\n",
    "\n",
    "### Anaconda Python to ArcPy\n",
    "\n",
    "Copy the Desktop.pth file to the Anaconda environment site-packages folder:\n",
    "\n",
    "C:\\> copy C:\\Python27\\ArcGIS10.4\\Lib\\site-packages\\Desktop10.4.pth C:\\Anaconda2\\envs\\arc104\\Lib\\site-packages\n",
    "\n",
    "### Arcpy to Anaconda Python\n",
    "\n",
    "Create a pth (path) file (e.g., zconda.pth)\n",
    "add this line \"C:\\Anaconda2\\envs\\arc104\\Lib\\site-packages\" to zconda.pth\n",
    "\n",
    "Copy zconda.pth to C:\\Python27\\ArcGIS10.4\\lib\\site-packages"
   ]
  },
  {
   "cell_type": "markdown",
   "metadata": {},
   "source": [
    "## Step 4:\n",
    "\n",
    "### Testing in ArcMap\n",
    "\n",
    "As a regular user, start ArcMap, open the Python window\n",
    "type \"import pandas\"\n",
    "type \"pandas.\"\n",
    "A popup menu with a list of pandas-provided functions is a pretty good sign the install succeeded.\n",
    "\n",
    "### Testing in Jupyter Notebook\n",
    "\n",
    "Open a Jupyter Notebook\n",
    "\n",
    "type \"import arcpy\"\n",
    "\n",
    "If no error pops up that means arcpy is successfully configured to work with Jupyter Notebook"
   ]
  },
  {
   "cell_type": "markdown",
   "metadata": {},
   "source": [
    "# Optional\n",
    "\n",
    "\n",
    "Install R kernel to work with Jupyter Notebook\n",
    "\n",
    "Reference:\n",
    "\n",
    "* <https://irkernel.github.io/installation/>\n",
    "\n",
    "Open R or Rstudio, run the follow script:\n",
    "\n",
    "\n",
    "install.packages(c('repr', 'IRdisplay', 'evaluate', 'crayon', 'pbdZMQ', 'devtools', 'uuid', 'digest'))\n",
    "\n",
    "devtools::install_github('IRkernel/IRkernel')\n",
    "\n",
    "IRkernel::installspec(user = FALSE)"
   ]
  }
 ],
 "metadata": {
  "anaconda-cloud": {},
  "kernelspec": {
   "display_name": "Python [conda env:arc104]",
   "language": "python",
   "name": "conda-env-arc104-py"
  },
  "language_info": {
   "codemirror_mode": {
    "name": "ipython",
    "version": 2
   },
   "file_extension": ".py",
   "mimetype": "text/x-python",
   "name": "python",
   "nbconvert_exporter": "python",
   "pygments_lexer": "ipython2",
   "version": "2.7.10"
  }
 },
 "nbformat": 4,
 "nbformat_minor": 1
}
