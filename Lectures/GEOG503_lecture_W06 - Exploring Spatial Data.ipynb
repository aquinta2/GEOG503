{
 "cells": [
  {
   "cell_type": "markdown",
   "metadata": {
    "collapsed": true
   },
   "source": [
    "# Exploring Spatial Data"
   ]
  },
  {
   "cell_type": "markdown",
   "metadata": {},
   "source": [
    "## Checking for the Existence of Data\n",
    "\n",
    "* **Two types of paths**\n",
    "    - System paths\n",
    "    - Catalog paths\n",
    "* **General syntax**\n",
    "    - os.path.exists(<dataset>)\n",
    "    - arcpy.Exists(<dataset>)\n"
   ]
  },
  {
   "cell_type": "code",
   "execution_count": 1,
   "metadata": {
    "collapsed": false
   },
   "outputs": [
    {
     "data": {
      "text/plain": [
       "True"
      ]
     },
     "execution_count": 1,
     "metadata": {},
     "output_type": "execute_result"
    }
   ],
   "source": [
    "import os\n",
    "os.path.exists(r\"C:\\Geog503\\data\\cities.shp\")"
   ]
  },
  {
   "cell_type": "code",
   "execution_count": 2,
   "metadata": {
    "collapsed": false
   },
   "outputs": [
    {
     "data": {
      "text/plain": [
       "True"
      ]
     },
     "execution_count": 2,
     "metadata": {},
     "output_type": "execute_result"
    }
   ],
   "source": [
    "import arcpy\n",
    "arcpy.Exists(r\"C:\\Geog503\\data\\cities.shp\")"
   ]
  },
  {
   "cell_type": "code",
   "execution_count": 3,
   "metadata": {
    "collapsed": false
   },
   "outputs": [
    {
     "data": {
      "text/plain": [
       "False"
      ]
     },
     "execution_count": 3,
     "metadata": {},
     "output_type": "execute_result"
    }
   ],
   "source": [
    "import os\n",
    "os.path.exists(r\"C:\\Geog503\\data\\testdata.gdb\\buffers_poly\")"
   ]
  },
  {
   "cell_type": "code",
   "execution_count": 4,
   "metadata": {
    "collapsed": false
   },
   "outputs": [
    {
     "data": {
      "text/plain": [
       "True"
      ]
     },
     "execution_count": 4,
     "metadata": {},
     "output_type": "execute_result"
    }
   ],
   "source": [
    "import arcpy\n",
    "arcpy.Exists(r\"C:\\Geog503\\data\\testdata.gdb\\buffers_poly\")"
   ]
  },
  {
   "cell_type": "markdown",
   "metadata": {},
   "source": [
    "## Describing Data\n",
    "\n",
    "* **The Describe function is used to determine properties of dataset**\n",
    "* **General syntax**\n",
    "    - import arcpy\n",
    "    - < variable> = arcpy.Describe(< input dataset>)\n",
    "* **Online help**\n",
    "    - <http://desktop.arcgis.com/en/arcmap/latest/analyze/arcpy-functions/describe.htm>\n"
   ]
  },
  {
   "cell_type": "code",
   "execution_count": 5,
   "metadata": {
    "collapsed": false
   },
   "outputs": [
    {
     "name": "stdout",
     "output_type": "stream",
     "text": [
      "ShapeFile\n",
      "Point\n"
     ]
    }
   ],
   "source": [
    "import arcpy\n",
    "desc = arcpy.Describe(r\"C:\\Geog503\\data\\cities.shp\")\n",
    "print(desc.datatype)\n",
    "print(desc.shapeType)"
   ]
  },
  {
   "cell_type": "code",
   "execution_count": 6,
   "metadata": {
    "collapsed": false
   },
   "outputs": [
    {
     "name": "stdout",
     "output_type": "stream",
     "text": [
      "Clip analysis run successfully.\n"
     ]
    }
   ],
   "source": [
    "import arcpy\n",
    "arcpy.env.workspace = r\"C:\\Geog503\\data\"\n",
    "arcpy.env.overwriteOutput = True\n",
    "infc = \"railroads.shp\"\n",
    "clipfc = \"new_mexico.shp\"\n",
    "# clipfc = \"cities.shp\"\n",
    "outfc = \"Results/railroads_clip.shp\"\n",
    "desc = arcpy.Describe(clipfc)\n",
    "type = desc.shapeType\n",
    "if type == \"Polygon\":\n",
    "    arcpy.Clip_analysis(infc, clipfc, outfc)\n",
    "    print(\"Clip analysis run successfully.\")\n",
    "else:\n",
    "    print(\"The clip features are not polygons.\")"
   ]
  },
  {
   "cell_type": "code",
   "execution_count": 7,
   "metadata": {
    "collapsed": true
   },
   "outputs": [],
   "source": [
    "import plotter\n",
    "from osgeo import gdal\n",
    "import os\n",
    "import matplotlib.pyplot as plt\n",
    "%matplotlib inline"
   ]
  },
  {
   "cell_type": "code",
   "execution_count": 8,
   "metadata": {
    "collapsed": false,
    "scrolled": true
   },
   "outputs": [
    {
     "data": {
      "image/png": "[encoded data removed]",
      "text/plain": [
       "<matplotlib.figure.Figure at 0x20c07230>"
      ]
     },
     "metadata": {},
     "output_type": "display_data"
    }
   ],
   "source": [
    "# Import VectorPlotter and change directories\n",
    "from plotter.vectorplotter import VectorPlotter\n",
    "workspace = r\"C:\\geog503\\data\"\n",
    "os.chdir(workspace)\n",
    "\n",
    "# Plot populated places on top of countries from an interactive session.\n",
    "vp = VectorPlotter(True)\n",
    "vp.plot('railroads.shp')\n",
    "vp.plot('new_mexico.shp')\n",
    "vp.plot('Results/railroads_clip.shp')"
   ]
  },
  {
   "cell_type": "markdown",
   "metadata": {},
   "source": [
    "## The Describe function\n",
    "\n",
    "* Describe function will always return a **Describe object**\n",
    "* The Describe function returns a set of **generic properties** for all Describe objects.\n",
    "\n",
    "<img style=\"float: left;\" src=\"images/describe_function.png\" width = 400>"
   ]
  },
  {
   "cell_type": "markdown",
   "metadata": {
    "collapsed": true
   },
   "source": [
    "* **Generic Describe Object Properties**\n",
    "\n",
    "<img style=\"float: left;\" src=\"images/generic_describe_props.png\" width = 400>"
   ]
  },
  {
   "cell_type": "code",
   "execution_count": 19,
   "metadata": {
    "collapsed": false
   },
   "outputs": [
    {
     "name": "stdout",
     "output_type": "stream",
     "text": [
      "baseName:    cities\n",
      "catalogPath: C:\\geog503\\data\\cities.shp\n",
      "file:        cities.shp\n",
      "name:        cities.shp\n",
      "path:        C:\\geog503\\data\n",
      "dataType:    ShapeFile\n",
      "extension:   shp\n"
     ]
    }
   ],
   "source": [
    "import arcpy\n",
    "data = r\"C:\\Geog503\\data\\cities.shp\"\n",
    "desc = arcpy.Describe(data)\n",
    "print(\"baseName:    {}\".format(desc.baseName))\n",
    "print(\"catalogPath: {}\".format(desc.catalogPath))\n",
    "print(\"file:        {}\".format(desc.file))\n",
    "print(\"name:        {}\".format(desc.name))\n",
    "print(\"path:        {}\".format(desc.path))\n",
    "print(\"dataType:    {}\".format(desc.dataType))\n",
    "print(\"extension:   {}\".format(desc.extension))"
   ]
  },
  {
   "cell_type": "markdown",
   "metadata": {},
   "source": [
    "## Feature class Describe properties\n",
    "\n",
    "<img style = \"float: left;\" src=\"images/fc_desc_props.png\" width = 500>"
   ]
  },
  {
   "cell_type": "markdown",
   "metadata": {},
   "source": [
    "### Feature Class properties\n",
    "\n",
    "* <http://desktop.arcgis.com/en/arcmap/latest/analyze/arcpy-functions/featureclass-properties.htm>\n",
    "\n",
    "<img style = \"float: left;\" src=\"images/fc_props.png\" width = 500>"
   ]
  },
  {
   "cell_type": "code",
   "execution_count": 18,
   "metadata": {
    "collapsed": false
   },
   "outputs": [
    {
     "name": "stdout",
     "output_type": "stream",
     "text": [
      "Feature Type:  Simple\n",
      "Shape Type :   Point\n",
      "Spatial Index: True\n"
     ]
    }
   ],
   "source": [
    "import arcpy\n",
    "\n",
    "# Create a Describe object from the feature class\n",
    "desc = arcpy.Describe(r\"C:\\Geog503\\data\\cities.shp\")\n",
    "\n",
    "# Print some feature class properties\n",
    "print(\"Feature Type:  {}\".format(desc.featureType))\n",
    "print(\"Shape Type :   {}\".format(desc.shapeType))\n",
    "print(\"Spatial Index: {}\".format(desc.hasSpatialIndex))"
   ]
  },
  {
   "cell_type": "markdown",
   "metadata": {},
   "source": [
    "### Table properties\n",
    "\n",
    "* <http://desktop.arcgis.com/en/arcmap/latest/analyze/arcpy-functions/table-properties.htm>\n",
    "\n",
    "<img style=\"float: left;\" src=\"images/table_props.png\" width = 500>"
   ]
  },
  {
   "cell_type": "code",
   "execution_count": 22,
   "metadata": {
    "collapsed": false
   },
   "outputs": [
    {
     "name": "stdout",
     "output_type": "stream",
     "text": [
      "OIDFieldName: FID\n",
      "FID                    : OID\n",
      "Shape                  : Geometry\n",
      "CITIESX020             : Double\n",
      "FEATURE                : String\n",
      "NAME                   : String\n",
      "POP_RANGE              : String\n",
      "POP_2000               : Integer\n",
      "FIPS55                 : String\n",
      "COUNTY                 : String\n",
      "FIPS                   : String\n",
      "STATE                  : String\n",
      "STATE_FIPS             : String\n",
      "DISPLAY                : SmallInteger\n"
     ]
    }
   ],
   "source": [
    "import arcpy\n",
    "# Create a Describe object from the table.\n",
    "desc = arcpy.Describe(r\"C:\\Geog503\\data\\cities.shp\")\n",
    "# If the table has an OID, print the OID field name\n",
    "if desc.hasOID:\n",
    "    print(\"OIDFieldName: {}\".format(desc.OIDFieldName))\n",
    "# Print the names and types of all the fields in the table\n",
    "for field in desc.fields:\n",
    "    print(\"{:22} : {}\".format(field.name,field.type))"
   ]
  },
  {
   "cell_type": "markdown",
   "metadata": {},
   "source": [
    "### Dataset properties\n",
    "\n",
    "* <http://desktop.arcgis.com/en/arcmap/latest/analyze/arcpy-functions/dataset-properties.htm>\n",
    "\n",
    "<img style=\"float: left;\" src=\"images/dataset_props.png\" width = 500>"
   ]
  },
  {
   "cell_type": "code",
   "execution_count": 25,
   "metadata": {
    "collapsed": false
   },
   "outputs": [
    {
     "name": "stdout",
     "output_type": "stream",
     "text": [
      "Dataset Type: FeatureClass\n",
      "Extent:\n",
      "  XMin: -109.050102234, XMax: -103.000656128, YMin: 31.3318996429, YMax: 36.9994239807\n",
      "Spatial reference name: GCS_North_American_1983:\n"
     ]
    }
   ],
   "source": [
    "import arcpy\n",
    "desc = arcpy.Describe(r\"C:\\Geog503\\data\\new_mexico.shp\")\n",
    "print(\"Dataset Type: {0}\".format(desc.datasetType))\n",
    "print(\"Extent:\\n  XMin: {0}, XMax: {1}, YMin: {2}, YMax: {3}\".format(\n",
    "    desc.extent.XMin, desc.extent.XMax, desc.extent.YMin, desc.extent.YMax))\n",
    "print(\"Spatial reference name: {0}:\".format(desc.spatialReference.name))"
   ]
  },
  {
   "cell_type": "markdown",
   "metadata": {},
   "source": [
    "### Raster Describe properties\n",
    "\n",
    "<img style=\"float: left;\" src=\"images/raster_desc.png\" width = 500>"
   ]
  },
  {
   "cell_type": "markdown",
   "metadata": {},
   "source": [
    "### Raster Dataset properties\n",
    "\n",
    "* <http://desktop.arcgis.com/en/arcmap/latest/analyze/arcpy-functions/raster-dataset-properties.htm>\n",
    "\n",
    "<img style=\"float: left;\" src=\"images/raster_dataset_props.png\" width = 500>"
   ]
  },
  {
   "cell_type": "code",
   "execution_count": 39,
   "metadata": {
    "collapsed": false
   },
   "outputs": [
    {
     "name": "stdout",
     "output_type": "stream",
     "text": [
      "bandCount:           1\n",
      "compressionType:     NONE\n",
      "format:              FGDBR\n"
     ]
    }
   ],
   "source": [
    "import arcpy\n",
    "desc = arcpy.Describe(r\"C:\\Geog503\\data\\testdata.gdb\\ElevationFloat\")\n",
    "print(\"{:20} {}\".format(\"bandCount:\",desc.bandCount))\n",
    "print(\"{:20} {}\".format(\"compressionType:\",desc.compressionType))\n",
    "print(\"{:20} {}\".format(\"format:\",desc.format))"
   ]
  },
  {
   "cell_type": "markdown",
   "metadata": {},
   "source": [
    "### Raster Band properties\n",
    "\n",
    "* <http://desktop.arcgis.com/en/arcmap/latest/analyze/arcpy-functions/raster-band-properties.htm>\n",
    "\n",
    "<img style=\"float: left;\" src=\"images/raster_band_props.png\" width = 500>"
   ]
  },
  {
   "cell_type": "code",
   "execution_count": 47,
   "metadata": {
    "collapsed": false
   },
   "outputs": [
    {
     "name": "stdout",
     "output_type": "stream",
     "text": [
      "height:         207\n",
      "width:          233\n",
      "pixelType:      F32\n",
      "isInteger:      False\n"
     ]
    }
   ],
   "source": [
    "import arcpy\n",
    "desc = arcpy.Describe(r\"C:\\Geog503\\data\\testdata.gdb\\ElevationFloat\")\n",
    "print(\"{:15} {}\".format(\"height: \", desc.height))\n",
    "print(\"{:15} {}\".format(\"width:\", desc.width))\n",
    "print(\"{:15} {}\".format(\"pixelType:\", desc.pixelType))\n",
    "print(\"{:15} {}\".format(\"isInteger:\", desc.isInteger))"
   ]
  },
  {
   "cell_type": "markdown",
   "metadata": {},
   "source": [
    "## Describing Data: Example"
   ]
  },
  {
   "cell_type": "code",
   "execution_count": 46,
   "metadata": {
    "collapsed": false,
    "scrolled": true
   },
   "outputs": [
    {
     "name": "stdout",
     "output_type": "stream",
     "text": [
      "Data type:      FeatureClass\n",
      "File path:      C:\\geog503\\data\\testdata.gdb\n",
      "Catalog path:   C:\\geog503\\data\\testdata.gdb\\buffers_poly\n",
      "File name:      buffers_poly\n",
      "Base name:      buffers_poly\n",
      "Name:           buffers_poly\n"
     ]
    }
   ],
   "source": [
    "import arcpy\n",
    "arcpy.env.workspace = r\"C:\\Geog503\\data\\testdata.gdb\"\n",
    "element = \"buffers_poly\"\n",
    "desc = arcpy.Describe(element)\n",
    "print(\"{:15} {}\".format(\"Data type: \", desc.dataType))\n",
    "print(\"{:15} {}\".format(\"File path: \", desc.path))\n",
    "print(\"{:15} {}\".format(\"Catalog path: \", desc.catalogPath))\n",
    "print(\"{:15} {}\".format(\"File name: \", desc.file))\n",
    "print(\"{:15} {}\".format(\"Base name: \",desc.baseName))\n",
    "print(\"{:15} {}\".format(\"Name: \", desc.name))"
   ]
  },
  {
   "cell_type": "markdown",
   "metadata": {},
   "source": [
    "## Describing a feature class and raster\n",
    "\n",
    "You can use the Describe object **dataType** property to determine what is being described. Some of the values returned by the **dataType** property include:\n",
    "\n",
    "* FeatureLayer\n",
    "* FeatureClass\n",
    "* File\n",
    "* Folder\n",
    "* LasDataset\n",
    "* Layer\n",
    "* MosaicDataset\n",
    "* NetworkDataset\n",
    "* RasterBand\n",
    "* RasterDataset\n",
    "* ShapeFile\n",
    "* Table\n",
    "* TextFile\n",
    "* Toolbox\n",
    "\n",
    "The complete list of dataType can be found at:\n",
    "<http://desktop.arcgis.com/en/arcmap/latest/analyze/arcpy-functions/arcinfo-item-properties.htm>\n",
    "\n",
    "The **hasattr()** function returns a Boolean value. An example of using the function with the Describe object is shown below."
   ]
  },
  {
   "cell_type": "code",
   "execution_count": 56,
   "metadata": {
    "collapsed": false,
    "scrolled": true
   },
   "outputs": [
    {
     "name": "stdout",
     "output_type": "stream",
     "text": [
      "Name: ElevationFloat\n",
      "Raster bands: 1\n"
     ]
    }
   ],
   "source": [
    "import arcpy\n",
    "arcpy.env.workspace = r\"C:\\Geog503\\data\\testdata.gdb\"\n",
    "element = \"ElevationFloat\"\n",
    "# element = \"buffers_poly\"\n",
    "desc = arcpy.Describe(element)\n",
    "if hasattr(desc, \"name\"):\n",
    "    print(\"Name: {}\".format(desc.name))\n",
    "if hasattr(desc, \"bandCount\"):\n",
    "    print(\"Raster bands: {}\".format(str(desc.bandCount)))\n",
    "if hasattr(desc, \"shapeType\"):\n",
    "    print(\"Shape type: {}\".format(desc.shapeType))"
   ]
  },
  {
   "cell_type": "code",
   "execution_count": 77,
   "metadata": {
    "collapsed": false
   },
   "outputs": [
    {
     "data": {
      "image/png": "[encoded data removed]",
      "text/plain": [
       "<matplotlib.figure.Figure at 0x20b29a10>"
      ]
     },
     "metadata": {},
     "output_type": "display_data"
    }
   ],
   "source": [
    "import arcpy\n",
    "import matplotlib.pyplot as plt\n",
    "arcpy.env.workspace = r\"C:\\Geog503\\data\\testdata.gdb\"\n",
    "image = arcpy.RasterToNumPyArray(\"ElevationInt\")\n",
    "plt.imshow(image,)\n",
    "plt.show()"
   ]
  },
  {
   "cell_type": "markdown",
   "metadata": {},
   "source": [
    "## List Data\n",
    "\n",
    "* **Listing data is very common**\n",
    "* **Several different list functions in ArcPy**\n",
    "    - ListFields\n",
    "    - ListIndexes\n",
    "    - ListDataset\n",
    "    - ListFeatureClasses\n",
    "    - ListFiles\n",
    "    - ListRasters\n",
    "    - ListTables\n",
    "    - ListWorkspaces\n",
    "    - ListVersions\n",
    "    \n",
    "* **Similar logic:**\n",
    "    - Create a list\n",
    "    - Iterate over the list using a for loop\n",
    "    \n",
    "The complete list data functions can be found at <>http://desktop.arcgis.com/en/arcmap/latest/analyze/arcpy-functions/listdatasets.htm\n"
   ]
  },
  {
   "cell_type": "markdown",
   "metadata": {},
   "source": [
    "### Listing Feature Classes\n",
    "\n",
    "* **The ListFeatureClasses function returns a list of feature classes in the current workspace**\n",
    "* **General syntax:**\n",
    "    - ListFeatureClasses ({wild_card}, {feature_type}, {feature_dataset})\n",
    "    \n",
    "* **No filtering:**\n",
    "    - fclist = arcpy.ListFeatureClasses()\n",
    "* **Filtering based on wild card**\n",
    "    - fclist = arcpy.ListFeatureClasses(\"c*\")\n",
    "* **Filtering based on feature type**\n",
    "    - fclist = arcpy.ListFeatureClasses(\"\", \"point\")\n"
   ]
  },
  {
   "cell_type": "code",
   "execution_count": 58,
   "metadata": {
    "collapsed": false
   },
   "outputs": [
    {
     "name": "stdout",
     "output_type": "stream",
     "text": [
      "[u'amtrak_stations.shp', u'cities.shp', u'counties.shp', u'new_mexico.shp', u'railroads.shp']\n"
     ]
    }
   ],
   "source": [
    "import arcpy\n",
    "from arcpy import env \n",
    "env.workspace = r\"C:\\Geog503\\data\"\n",
    "fclist = arcpy.ListFeatureClasses()\n",
    "print(fclist)"
   ]
  },
  {
   "cell_type": "code",
   "execution_count": 59,
   "metadata": {
    "collapsed": false
   },
   "outputs": [
    {
     "name": "stdout",
     "output_type": "stream",
     "text": [
      "[u'cities.shp', u'counties.shp']\n"
     ]
    }
   ],
   "source": [
    "import arcpy\n",
    "from arcpy import env \n",
    "env.workspace = r\"C:\\Geog503\\data\"\n",
    "fclist = arcpy.ListFeatureClasses(\"*es.shp\")\n",
    "print(fclist)"
   ]
  },
  {
   "cell_type": "markdown",
   "metadata": {},
   "source": [
    "## Listing Fields\n",
    "\n",
    "* The **ListFields** function lists the fields in a feature class or table in a specified dataset.\n",
    "* General syntax:\n",
    "    - ListFields(dataset, {wild_card}, {field_type})\n"
   ]
  },
  {
   "cell_type": "code",
   "execution_count": 62,
   "metadata": {
    "collapsed": false
   },
   "outputs": [
    {
     "name": "stdout",
     "output_type": "stream",
     "text": [
      "FID             : OID\n",
      "Shape           : Geometry\n",
      "CITIESX020      : Double\n",
      "FEATURE         : String\n",
      "NAME            : String\n",
      "POP_RANGE       : String\n",
      "POP_2000        : Integer\n",
      "FIPS55          : String\n",
      "COUNTY          : String\n",
      "FIPS            : String\n",
      "STATE           : String\n",
      "STATE_FIPS      : String\n",
      "DISPLAY         : SmallInteger\n"
     ]
    }
   ],
   "source": [
    "import arcpy\n",
    "from arcpy import env\n",
    "env.workspace = r\"C:\\Geog503\\data\"\n",
    "fieldlist = arcpy.ListFields(\"cities.shp\")\n",
    "for field in fieldlist:\n",
    "    print(\"{:15} : {}\".format(field.name,field.type))"
   ]
  },
  {
   "cell_type": "markdown",
   "metadata": {},
   "source": [
    "## Using Lists in for loops\n",
    "\n",
    "The following script creates a list of fields of type String and determines for each text field what the length of the field is"
   ]
  },
  {
   "cell_type": "code",
   "execution_count": 64,
   "metadata": {
    "collapsed": false
   },
   "outputs": [
    {
     "name": "stdout",
     "output_type": "stream",
     "text": [
      "FEATURE         27\n",
      "NAME            48\n",
      "POP_RANGE       21\n",
      "FIPS55          5\n",
      "COUNTY          55\n",
      "FIPS            5\n",
      "STATE           2\n",
      "STATE_FIPS      2\n"
     ]
    }
   ],
   "source": [
    "import arcpy\n",
    "from arcpy import env\n",
    "env.workspace = r\"C:\\Geog503\\data\"\n",
    "fieldlist = arcpy.ListFields(\"cities.shp\",\"\", \"String\")\n",
    "for field in fieldlist:\n",
    "    print(\"{:15} {}\".format(field.name, str(field.length)))"
   ]
  },
  {
   "cell_type": "markdown",
   "metadata": {},
   "source": [
    "The following script creates a list of TIFF files and iterates through each file in the list to build pyramids"
   ]
  },
  {
   "cell_type": "code",
   "execution_count": 65,
   "metadata": {
    "collapsed": true
   },
   "outputs": [],
   "source": [
    "import arcpy\n",
    "from arcpy import env\n",
    "env.workspace = r\"C:\\Geog503\\data\"\n",
    "tifflist = arcpy.ListRasters(\"\", \"TIF\" )\n",
    "for tiff in tifflist:\n",
    "    arcpy.BuildPyramids_management(tiff)"
   ]
  },
  {
   "cell_type": "markdown",
   "metadata": {},
   "source": [
    " ## Working with Dictionaries\n",
    " \n",
    "* **Dictionaries consist of pairs of keys and values.**\n",
    "* **Pairs are referred to as the items.**\n"
   ]
  },
  {
   "cell_type": "code",
   "execution_count": 74,
   "metadata": {
    "collapsed": false
   },
   "outputs": [
    {
     "name": "stdout",
     "output_type": "stream",
     "text": [
      "['NY', 'CO', 'OH']\n",
      "['Albany', 'Denver', 'Columbus']\n",
      "[('NY', 'Albany'), ('CO', 'Denver'), ('OH', 'Columbus')]\n"
     ]
    }
   ],
   "source": [
    "capital = { }\n",
    "capital[\"NY\"] = \"Albany\"\n",
    "capital[\"OH\"] = \"Columbus\"\n",
    "capital[\"CO\"] = \"Denver\"\n",
    "print(capital.keys())\n",
    "print(capital.values())\n",
    "print(capital.items())"
   ]
  }
 ],
 "metadata": {
  "anaconda-cloud": {},
  "kernelspec": {
   "display_name": "Python [conda env:arc104]",
   "language": "python",
   "name": "conda-env-arc104-py"
  },
  "language_info": {
   "codemirror_mode": {
    "name": "ipython",
    "version": 2
   },
   "file_extension": ".py",
   "mimetype": "text/x-python",
   "name": "python",
   "nbconvert_exporter": "python",
   "pygments_lexer": "ipython2",
   "version": "2.7.10"
  }
 },
 "nbformat": 4,
 "nbformat_minor": 1
}
