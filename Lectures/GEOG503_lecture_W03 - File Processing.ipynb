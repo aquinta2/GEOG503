{
 "cells": [
  {
   "cell_type": "markdown",
   "metadata": {},
   "source": [
    "# Files and I/O\n",
    "\n",
    "## Manipulating Pathnames\n",
    "\n",
    "<http://www.diveintopython.net/file_handling/os_module.html>"
   ]
  },
  {
   "cell_type": "code",
   "execution_count": 1,
   "metadata": {
    "collapsed": false
   },
   "outputs": [
    {
     "name": "stdout",
     "output_type": "stream",
     "text": [
      "C:/geog503/notebooks/data/stocks.csv\n",
      "C:\\geog503\\notebooks\\data\\stocks.csv\n",
      "C:\\geog503\\notebooks\\data\\stocks.csv\n"
     ]
    }
   ],
   "source": [
    "import os\n",
    "# three ways to use file path\n",
    "file_path = \"C:/geog503/notebooks/data/stocks.csv\"       # forward slash\n",
    "print(file_path)\n",
    "file_path = \"C:\\\\geog503\\\\notebooks\\\\data\\\\stocks.csv\"   # double back slashes\n",
    "print(file_path)\n",
    "file_path = r\"C:\\geog503\\notebooks\\data\\stocks.csv\"      # single back slash with 'r', raw\n",
    "print(file_path)"
   ]
  },
  {
   "cell_type": "code",
   "execution_count": 2,
   "metadata": {
    "collapsed": false
   },
   "outputs": [
    {
     "name": "stdout",
     "output_type": "stream",
     "text": [
      "stocks.csv\n"
     ]
    }
   ],
   "source": [
    "# Get the last component of the path\n",
    "basename = os.path.basename(file_path)\n",
    "print(basename)     "
   ]
  },
  {
   "cell_type": "code",
   "execution_count": 3,
   "metadata": {
    "collapsed": false
   },
   "outputs": [
    {
     "name": "stdout",
     "output_type": "stream",
     "text": [
      "C:\\geog503\\notebooks\\data\n"
     ]
    }
   ],
   "source": [
    "# Get the directory name\n",
    "dirname = os.path.dirname(file_path)\n",
    "print(dirname)"
   ]
  },
  {
   "cell_type": "code",
   "execution_count": 4,
   "metadata": {
    "collapsed": false
   },
   "outputs": [
    {
     "name": "stdout",
     "output_type": "stream",
     "text": [
      "stocks\n",
      ".csv\n"
     ]
    }
   ],
   "source": [
    "# Split the file extension\n",
    "base = os.path.splitext(basename)[0]\n",
    "print(base)\n",
    "ext = os.path.splitext(basename)[1]\n",
    "print(ext)"
   ]
  },
  {
   "cell_type": "code",
   "execution_count": 5,
   "metadata": {
    "collapsed": false
   },
   "outputs": [
    {
     "name": "stdout",
     "output_type": "stream",
     "text": [
      "D:\\Dropbox\\Teaching\\2017 Spring\\GEOG 503\\notebooks\\Lectures\n"
     ]
    }
   ],
   "source": [
    "# Get current working directory\n",
    "wd = os.getcwd()\n",
    "print(wd)"
   ]
  },
  {
   "cell_type": "code",
   "execution_count": 6,
   "metadata": {
    "collapsed": false
   },
   "outputs": [
    {
     "name": "stdout",
     "output_type": "stream",
     "text": [
      "D:\\Dropbox\\Teaching\\2017 Spring\\GEOG 503\\notebooks\\Lectures\\data/stocks.csv\n"
     ]
    }
   ],
   "source": [
    "# Join path components together\n",
    "file_path = os.path.join(wd,\"data/stocks.csv\")\n",
    "print(file_path)"
   ]
  },
  {
   "cell_type": "code",
   "execution_count": 7,
   "metadata": {
    "collapsed": false
   },
   "outputs": [
    {
     "name": "stdout",
     "output_type": "stream",
     "text": [
      "['.gitignore', '.ipynb_checkpoints', 'data', 'GEOG503_lecture_W01 - ArcGIS Python API.ipynb', 'GEOG503_lecture_W02 - Intro Python Notebook.ipynb', 'GEOG503_lecture_W03 - File Processing.ipynb', 'GEOG503_lecture_W03 - Python Language.ipynb', 'GEOG503_lecture_W04 - Configure Arcpy to work with Jupyter Notebook.ipynb', 'start_ipython_notebook_here.bat']\n"
     ]
    }
   ],
   "source": [
    "# List all files in a directory\n",
    "files = os.listdir(wd)\n",
    "print(files)"
   ]
  },
  {
   "cell_type": "code",
   "execution_count": 8,
   "metadata": {
    "collapsed": false
   },
   "outputs": [
    {
     "name": "stdout",
     "output_type": "stream",
     "text": [
      "GEOG503_lecture_W01 - ArcGIS Python API.ipynb\n",
      "GEOG503_lecture_W02 - Intro Python Notebook.ipynb\n",
      "GEOG503_lecture_W03 - File Processing.ipynb\n",
      "GEOG503_lecture_W03 - Python Language.ipynb\n",
      "GEOG503_lecture_W04 - Configure Arcpy to work with Jupyter Notebook.ipynb\n"
     ]
    }
   ],
   "source": [
    "# List files with a certain file extension\n",
    "files = os.listdir(wd)\n",
    "for file in files:\n",
    "    if os.path.splitext(file)[1] == '.ipynb':\n",
    "        print(file)"
   ]
  },
  {
   "cell_type": "code",
   "execution_count": 9,
   "metadata": {
    "collapsed": false
   },
   "outputs": [
    {
     "data": {
      "text/plain": [
       "['GEOG503_lecture_W01 - ArcGIS Python API.ipynb',\n",
       " 'GEOG503_lecture_W02 - Intro Python Notebook.ipynb',\n",
       " 'GEOG503_lecture_W03 - File Processing.ipynb',\n",
       " 'GEOG503_lecture_W03 - Python Language.ipynb',\n",
       " 'GEOG503_lecture_W04 - Configure Arcpy to work with Jupyter Notebook.ipynb']"
      ]
     },
     "execution_count": 9,
     "metadata": {},
     "output_type": "execute_result"
    }
   ],
   "source": [
    "# List dirtories with glob\n",
    "import glob\n",
    "glob.glob(\"*.ipynb\")"
   ]
  },
  {
   "cell_type": "code",
   "execution_count": 10,
   "metadata": {
    "collapsed": false
   },
   "outputs": [
    {
     "data": {
      "text/plain": [
       "['GEOG503_lecture_W03 - File Processing.ipynb',\n",
       " 'GEOG503_lecture_W03 - Python Language.ipynb']"
      ]
     },
     "execution_count": 10,
     "metadata": {},
     "output_type": "execute_result"
    }
   ],
   "source": [
    "# List dirtories with glob\n",
    "import glob\n",
    "glob.glob(\"*W03*.ipynb\")"
   ]
  },
  {
   "cell_type": "markdown",
   "metadata": {},
   "source": [
    "## Reading and Writing CSV Data\n",
    "\n",
    "<https://docs.python.org/3/library/csv.html>"
   ]
  },
  {
   "cell_type": "code",
   "execution_count": 11,
   "metadata": {
    "collapsed": false
   },
   "outputs": [
    {
     "name": "stdout",
     "output_type": "stream",
     "text": [
      "D:\\Dropbox\\Teaching\\2017 Spring\\GEOG 503\\notebooks\\Lectures\\data/stocks.csv\n",
      "['Symbol', 'Price', 'Date', 'Time', 'Change', 'Volume']\n",
      "['AA', '39.48', '6/11/2007', '9:36am', '-0.18', '181800']\n",
      "['AIG', '71.38', '6/11/2007', '9:36am', '-0.15', '195500']\n",
      "['AXP', '62.58', '6/11/2007', '9:36am', '-0.46', '935000']\n",
      "['BA', '98.31', '6/11/2007', '9:36am', '+0.12', '104800']\n",
      "['C', '53.08', '6/11/2007', '9:36am', '-0.25', '360900']\n",
      "['CAT', '78.29', '6/11/2007', '9:36am', '-0.23', '225400']\n"
     ]
    }
   ],
   "source": [
    "# Read CSV file\n",
    "import csv\n",
    "file_path = os.path.join(wd,\"data/stocks.csv\")\n",
    "print(file_path)\n",
    "with open(file_path) as f:\n",
    "    f_csv = csv.reader(f)\n",
    "    for row in f_csv:\n",
    "        print(row)  # use row[i] to get values"
   ]
  },
  {
   "cell_type": "code",
   "execution_count": 12,
   "metadata": {
    "collapsed": true
   },
   "outputs": [],
   "source": [
    "# Write csv file\n",
    "import csv\n",
    "file_path = os.path.join(wd,\"data/newfile.csv\")\n",
    "with open(file_path, 'w', newline='') as csvfile:\n",
    "    spamwriter = csv.writer(csvfile, delimiter=',')\n",
    "    spamwriter.writerow(['Spam'] * 5 + ['Baked Beans'])\n",
    "    spamwriter.writerow(['Spam', 'Lovely Spam', 'Wonderful Spam'])"
   ]
  },
  {
   "cell_type": "markdown",
   "metadata": {},
   "source": [
    "## Handling Exceptions\n",
    "\n",
    "<https://docs.python.org/3/tutorial/errors.html#handling-exceptions>"
   ]
  },
  {
   "cell_type": "code",
   "execution_count": 13,
   "metadata": {
    "collapsed": false
   },
   "outputs": [
    {
     "name": "stdout",
     "output_type": "stream",
     "text": [
      "Please enter a number: 6\n",
      "Your input is a valid number!\n",
      "Please enter a number: 87\n",
      "Your input is a valid number!\n",
      "Please enter a number: hjj\n",
      "Oops!  That was no valid number.  Try again...\n"
     ]
    }
   ],
   "source": [
    "while True:\n",
    "    try:\n",
    "        x = int(input(\"Please enter a number: \"))\n",
    "        print(\"Your input is a valid number!\")\n",
    "        continue\n",
    "    except ValueError:\n",
    "        print(\"Oops!  That was no valid number.  Try again...\")\n",
    "        break"
   ]
  },
  {
   "cell_type": "code",
   "execution_count": null,
   "metadata": {
    "collapsed": true
   },
   "outputs": [],
   "source": []
  }
 ],
 "metadata": {
  "anaconda-cloud": {},
  "kernelspec": {
   "display_name": "Python [conda root]",
   "language": "python",
   "name": "conda-root-py"
  },
  "language_info": {
   "codemirror_mode": {
    "name": "ipython",
    "version": 3
   },
   "file_extension": ".py",
   "mimetype": "text/x-python",
   "name": "python",
   "nbconvert_exporter": "python",
   "pygments_lexer": "ipython3",
   "version": "3.5.2"
  }
 },
 "nbformat": 4,
 "nbformat_minor": 1
}
